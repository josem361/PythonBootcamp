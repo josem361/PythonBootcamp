{
  "cells": [
    {
      "cell_type": "markdown",
      "metadata": {
        "id": "view-in-github",
        "colab_type": "text"
      },
      "source": [
        "<a href=\"https://colab.research.google.com/github/josem361/PythonBootcamp/blob/main/Module%200/Session%203/m0s3nb3_sets.ipynb\" target=\"_parent\"><img src=\"https://colab.research.google.com/assets/colab-badge.svg\" alt=\"Open In Colab\"/></a>"
      ]
    },
    {
      "cell_type": "markdown",
      "id": "945c9b8f",
      "metadata": {
        "id": "945c9b8f"
      },
      "source": [
        "# Python Sets"
      ]
    },
    {
      "cell_type": "markdown",
      "id": "8ad7d700",
      "metadata": {
        "id": "8ad7d700"
      },
      "source": [
        "### Sets in Python\n",
        "\n",
        "####  A set is an unordered collection with no duplicate elements. Sets are mutable, but they must contain immutable elements.\n",
        "\n",
        "Basic uses include membership testing and eliminating duplicate entries.\n",
        "\n",
        "Set objects also support mathematical operations like union, intersection, difference, and symmetric difference.\n",
        "\n",
        "To create a set, we use either curly braces or the set() function.\n",
        "\n",
        "We can create:\n",
        "\n",
        "1. An empty `set`, using the `set()` function.\n",
        "\n",
        "2. A `set` with values, using either `set()` or curly braces, `{}`.\n",
        "\n",
        "     a. The `set()` function takes a single argument, which can be a list or string. It will return the unique elements for that are within that object.\n",
        "     \n",
        "     b. Creating a set with curly braces `{}` takes one or more arguments. It will return the unique elements of those arguments themselves.\n",
        "\n",
        "\n",
        "3. A `set` created from another variable (`list` or `string`) will contain only the unique elements of that original variable, using the `set()` function. **This will be the most common method of creating a set in this class.**\n",
        "\n",
        "Note: to create an empty set you have to use set(), not {}; The latter creates an empty dictionary, a data structure that we will cover in the next bootcamp session.\n",
        "\n",
        "#### Set documentation link: https://docs.python.org/3/tutorial/datastructures.html#sets"
      ]
    },
    {
      "cell_type": "markdown",
      "id": "f88eea30",
      "metadata": {
        "id": "f88eea30"
      },
      "source": [
        "### <span style=\"background-color: #FFFF00\">In this class, for homework notebooks and exams, most every time that you are asked for the unique values of some object/variable, you will be using a `set()` to return those unique values.</span>\n",
        "\n",
        "Some objects have their own `unique()` method, and we will be covering those later in the semester."
      ]
    },
    {
      "cell_type": "markdown",
      "id": "1c2a51a0",
      "metadata": {
        "id": "1c2a51a0"
      },
      "source": [
        "#### Create empty sets"
      ]
    },
    {
      "cell_type": "code",
      "execution_count": 1,
      "id": "34251107",
      "metadata": {
        "id": "34251107",
        "outputId": "7bf6ccf7-5567-40e8-cb4f-6b199af9c649",
        "colab": {
          "base_uri": "https://localhost:8080/",
          "height": 86
        }
      },
      "outputs": [
        {
          "output_type": "display_data",
          "data": {
            "text/plain": [
              "set()"
            ]
          },
          "metadata": {}
        },
        {
          "output_type": "display_data",
          "data": {
            "text/plain": [
              "{}"
            ]
          },
          "metadata": {}
        },
        {
          "output_type": "display_data",
          "data": {
            "text/plain": [
              "set"
            ]
          },
          "metadata": {}
        },
        {
          "output_type": "display_data",
          "data": {
            "text/plain": [
              "dict"
            ]
          },
          "metadata": {}
        }
      ],
      "source": [
        "empty_set_1 = set()\n",
        "# note that this creates a dictionary\n",
        "empty_set_2 = {}\n",
        "\n",
        "display(empty_set_1)\n",
        "display(empty_set_2)\n",
        "\n",
        "# set\n",
        "display(type(empty_set_1))\n",
        "#dictionary\n",
        "display(type(empty_set_2))"
      ]
    },
    {
      "cell_type": "markdown",
      "id": "bd515e4f",
      "metadata": {
        "id": "bd515e4f"
      },
      "source": [
        "#### Create a set with values."
      ]
    },
    {
      "cell_type": "code",
      "execution_count": 2,
      "id": "5a209b64",
      "metadata": {
        "id": "5a209b64",
        "outputId": "3f8e38dc-6dc5-4bf5-ec83-de2e096f78f6",
        "colab": {
          "base_uri": "https://localhost:8080/",
          "height": 52
        }
      },
      "outputs": [
        {
          "output_type": "display_data",
          "data": {
            "text/plain": [
              "{'a', 'b', 'c', 'd', 'r'}"
            ]
          },
          "metadata": {}
        },
        {
          "output_type": "display_data",
          "data": {
            "text/plain": [
              "{'granger', 'potter', 'snape', 'weasley'}"
            ]
          },
          "metadata": {}
        }
      ],
      "source": [
        "# pass in a string\n",
        "set_1 = set('abracadabra')\n",
        "display(set_1)\n",
        "\n",
        "# pass in a list\n",
        "set_2 = set(['potter', 'weasley', 'granger', 'snape', 'potter', 'snape'])\n",
        "display(set_2)"
      ]
    },
    {
      "cell_type": "code",
      "execution_count": 3,
      "id": "c6ca36cf",
      "metadata": {
        "id": "c6ca36cf"
      },
      "outputs": [],
      "source": [
        "# will error out, because multiple parameters\n",
        "# set_3 = set('potter', 'weasley', 'granger', 'snape', 'potter', 'snape')\n",
        "# display(set_3)"
      ]
    },
    {
      "cell_type": "code",
      "execution_count": 4,
      "id": "a330e232",
      "metadata": {
        "id": "a330e232",
        "outputId": "56d7359a-8f51-4ffd-fec9-285abbf62d0d",
        "colab": {
          "base_uri": "https://localhost:8080/",
          "height": 52
        }
      },
      "outputs": [
        {
          "output_type": "display_data",
          "data": {
            "text/plain": [
              "{'abracadabra'}"
            ]
          },
          "metadata": {}
        },
        {
          "output_type": "display_data",
          "data": {
            "text/plain": [
              "{'granger', 'potter', 'snape', 'weasley'}"
            ]
          },
          "metadata": {}
        }
      ],
      "source": [
        "# using curly braces\n",
        "set_4 = {'abracadabra'}\n",
        "display(set_4)\n",
        "\n",
        "set_5 = {'potter', 'weasley', 'granger', 'snape', 'potter', 'snape'}\n",
        "display(set_5)"
      ]
    },
    {
      "cell_type": "markdown",
      "id": "01980164",
      "metadata": {
        "id": "01980164"
      },
      "source": [
        "#### Create a set as the unique values of another variable, such as a list or string."
      ]
    },
    {
      "cell_type": "code",
      "execution_count": 5,
      "id": "b5c2fe1c",
      "metadata": {
        "id": "b5c2fe1c",
        "outputId": "1cbf8e74-b77b-4ea4-9d7b-35ea4241b131",
        "colab": {
          "base_uri": "https://localhost:8080/",
          "height": 34
        }
      },
      "outputs": [
        {
          "output_type": "display_data",
          "data": {
            "text/plain": [
              "{' ', 'a', 'd', 'e', 'k', 'r', 'v'}"
            ]
          },
          "metadata": {}
        }
      ],
      "source": [
        "str_potter_1 = 'avada kedavra'\n",
        "set_6 = set(str_potter_1)\n",
        "display(set_6)"
      ]
    },
    {
      "cell_type": "code",
      "execution_count": 6,
      "id": "d087483d",
      "metadata": {
        "id": "d087483d",
        "outputId": "201cd72f-4608-4a8e-b2ed-9ac43bc96051",
        "colab": {
          "base_uri": "https://localhost:8080/",
          "height": 34
        }
      },
      "outputs": [
        {
          "output_type": "display_data",
          "data": {
            "text/plain": [
              "{'granger', 'potter', 'snape', 'weasley'}"
            ]
          },
          "metadata": {}
        }
      ],
      "source": [
        "lst_potter_2 = ['potter', 'weasley', 'granger', 'snape', 'potter', 'snape']\n",
        "set_7 = set(lst_potter_2)\n",
        "display(set_7)"
      ]
    },
    {
      "cell_type": "code",
      "execution_count": 7,
      "id": "9e7de0af",
      "metadata": {
        "id": "9e7de0af"
      },
      "outputs": [],
      "source": [
        "# recall that a set is unordered, so we cannot address specific elements by index\n",
        "# will throw an error\n",
        "# display(set_7[0])"
      ]
    },
    {
      "cell_type": "markdown",
      "id": "74ba3733",
      "metadata": {
        "id": "74ba3733"
      },
      "source": [
        "#### Testing membership in set"
      ]
    },
    {
      "cell_type": "code",
      "execution_count": 8,
      "id": "3a539a4a",
      "metadata": {
        "id": "3a539a4a",
        "outputId": "939d2356-29b5-4e02-d615-bdb5950cd9b6",
        "colab": {
          "base_uri": "https://localhost:8080/"
        }
      },
      "outputs": [
        {
          "output_type": "execute_result",
          "data": {
            "text/plain": [
              "False"
            ]
          },
          "metadata": {},
          "execution_count": 8
        }
      ],
      "source": [
        "'dumbledore' in set_7"
      ]
    },
    {
      "cell_type": "code",
      "execution_count": 9,
      "id": "8218f001",
      "metadata": {
        "id": "8218f001",
        "outputId": "3a0ac85c-72b4-4085-9101-0bdcf1bfc8ce",
        "colab": {
          "base_uri": "https://localhost:8080/"
        }
      },
      "outputs": [
        {
          "output_type": "stream",
          "name": "stdout",
          "text": [
            "He's not\n"
          ]
        }
      ],
      "source": [
        "if 'dumbledore' in set_7:\n",
        "    print(\"He is\")\n",
        "else:\n",
        "    print(\"He's not\")"
      ]
    },
    {
      "cell_type": "markdown",
      "id": "610dc71e",
      "metadata": {
        "id": "610dc71e"
      },
      "source": [
        "#### Use Python bitwise operators to compare the values in two sets.\n",
        "\n",
        "https://realpython.com/python-bitwise-operators/"
      ]
    },
    {
      "cell_type": "code",
      "execution_count": 10,
      "id": "1e7a0f96",
      "metadata": {
        "id": "1e7a0f96",
        "outputId": "c7250d82-1370-4b04-c602-73ba75fce161",
        "colab": {
          "base_uri": "https://localhost:8080/",
          "height": 52
        }
      },
      "outputs": [
        {
          "output_type": "display_data",
          "data": {
            "text/plain": [
              "{'a', 'b', 'c', 'd', 'r'}"
            ]
          },
          "metadata": {}
        },
        {
          "output_type": "display_data",
          "data": {
            "text/plain": [
              "{' ', 'a', 'd', 'e', 'k', 'r', 'v'}"
            ]
          },
          "metadata": {}
        }
      ],
      "source": [
        "set_magic = set('abracadabra')\n",
        "set_spell = set('avada kedavra')\n",
        "display(set_magic)\n",
        "display(set_spell)"
      ]
    },
    {
      "cell_type": "markdown",
      "id": "ab65715f",
      "metadata": {
        "id": "ab65715f"
      },
      "source": [
        "Bitwise **SUBTRACTION**"
      ]
    },
    {
      "cell_type": "code",
      "execution_count": 11,
      "id": "91cf5ce4",
      "metadata": {
        "id": "91cf5ce4",
        "outputId": "b48e351f-f67f-48bd-c249-8198bc2c48eb",
        "colab": {
          "base_uri": "https://localhost:8080/"
        }
      },
      "outputs": [
        {
          "output_type": "execute_result",
          "data": {
            "text/plain": [
              "{'b', 'c'}"
            ]
          },
          "metadata": {},
          "execution_count": 11
        }
      ],
      "source": [
        "# letters in set_magic but not in set_spell\n",
        "set_magic - set_spell"
      ]
    },
    {
      "cell_type": "code",
      "execution_count": 12,
      "id": "f7c2b72b",
      "metadata": {
        "id": "f7c2b72b"
      },
      "outputs": [],
      "source": [
        "# Note that Bitwise ADDITION is not supported for sets\n",
        "# will error out\n",
        "# set_magic + set_spell"
      ]
    },
    {
      "cell_type": "markdown",
      "id": "76a48c12",
      "metadata": {
        "id": "76a48c12"
      },
      "source": [
        "Bitwise **OR**"
      ]
    },
    {
      "cell_type": "code",
      "execution_count": 13,
      "id": "05f61e08",
      "metadata": {
        "id": "05f61e08",
        "outputId": "99b1de13-7fb3-4458-d622-62b95d16a777",
        "colab": {
          "base_uri": "https://localhost:8080/"
        }
      },
      "outputs": [
        {
          "output_type": "execute_result",
          "data": {
            "text/plain": [
              "{' ', 'a', 'b', 'c', 'd', 'e', 'k', 'r', 'v'}"
            ]
          },
          "metadata": {},
          "execution_count": 13
        }
      ],
      "source": [
        "# letters in set_magic or set_spell or both\n",
        "set_magic | set_spell"
      ]
    },
    {
      "cell_type": "markdown",
      "id": "42a819b7",
      "metadata": {
        "id": "42a819b7"
      },
      "source": [
        "Bitwise **AND**"
      ]
    },
    {
      "cell_type": "code",
      "execution_count": 14,
      "id": "4ef1d8d1",
      "metadata": {
        "id": "4ef1d8d1",
        "outputId": "bf4939ff-5a15-47e9-9625-7852479d05bf",
        "colab": {
          "base_uri": "https://localhost:8080/"
        }
      },
      "outputs": [
        {
          "output_type": "execute_result",
          "data": {
            "text/plain": [
              "{'a', 'd', 'r'}"
            ]
          },
          "metadata": {},
          "execution_count": 14
        }
      ],
      "source": [
        "# letters in both set_magic and set_spell\n",
        "set_magic & set_spell"
      ]
    },
    {
      "cell_type": "markdown",
      "id": "374b122c",
      "metadata": {
        "id": "374b122c"
      },
      "source": [
        "Bitwise **XOR**  Exclusive OR"
      ]
    },
    {
      "cell_type": "code",
      "execution_count": 15,
      "id": "0026af95",
      "metadata": {
        "id": "0026af95",
        "outputId": "0803d6be-45d6-4e82-fe74-7faada14b63b",
        "colab": {
          "base_uri": "https://localhost:8080/"
        }
      },
      "outputs": [
        {
          "output_type": "execute_result",
          "data": {
            "text/plain": [
              "{' ', 'b', 'c', 'e', 'k', 'v'}"
            ]
          },
          "metadata": {},
          "execution_count": 15
        }
      ],
      "source": [
        "# letters in either set_magic or set_spell, but not in both\n",
        "set_magic ^ set_spell"
      ]
    },
    {
      "cell_type": "markdown",
      "id": "45cbd8c3",
      "metadata": {
        "id": "45cbd8c3"
      },
      "source": [
        "#### What are your questions on sets?"
      ]
    }
  ],
  "metadata": {
    "kernelspec": {
      "display_name": "Python 3 (ipykernel)",
      "language": "python",
      "name": "python3"
    },
    "language_info": {
      "codemirror_mode": {
        "name": "ipython",
        "version": 3
      },
      "file_extension": ".py",
      "mimetype": "text/x-python",
      "name": "python",
      "nbconvert_exporter": "python",
      "pygments_lexer": "ipython3",
      "version": "3.9.13"
    },
    "colab": {
      "provenance": [],
      "include_colab_link": true
    }
  },
  "nbformat": 4,
  "nbformat_minor": 5
}
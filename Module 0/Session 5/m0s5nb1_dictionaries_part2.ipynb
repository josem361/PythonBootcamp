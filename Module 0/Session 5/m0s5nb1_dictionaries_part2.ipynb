{
  "cells": [
    {
      "cell_type": "markdown",
      "metadata": {
        "id": "view-in-github",
        "colab_type": "text"
      },
      "source": [
        "<a href=\"https://colab.research.google.com/github/josem361/PythonBootcamp/blob/main/Module%200/Session%205/m0s5nb1_dictionaries_part2.ipynb\" target=\"_parent\"><img src=\"https://colab.research.google.com/assets/colab-badge.svg\" alt=\"Open In Colab\"/></a>"
      ]
    },
    {
      "cell_type": "markdown",
      "metadata": {
        "id": "CBoCSgXveH5t"
      },
      "source": [
        "# Python Data Structures: Dictionaries Pt. 2"
      ]
    },
    {
      "cell_type": "markdown",
      "metadata": {
        "id": "T3_Z66exeH5v"
      },
      "source": [
        "## More Complex Dictionary Use"
      ]
    },
    {
      "cell_type": "markdown",
      "metadata": {
        "id": "7Bd3xWx0eH5v"
      },
      "source": [
        "### Arbitrary Types"
      ]
    },
    {
      "cell_type": "markdown",
      "metadata": {
        "id": "0mlTKCMheH5v"
      },
      "source": [
        "So far, we have mainly seen dictionaries where we have used strings as the keys. However, we can use any hashable (which usually means immutable) type as a key in a dictionary, and *any* type as a value.\n",
        "- Here's an example of a dictionary where we use:\n",
        "  - Integers as keys\n",
        "  - Lists as the values."
      ]
    },
    {
      "cell_type": "code",
      "execution_count": 1,
      "metadata": {
        "id": "rfOnh0RleH5w",
        "outputId": "24ce9b2e-e2e1-4963-d35e-0e9f4e77f1e0",
        "colab": {
          "base_uri": "https://localhost:8080/"
        }
      },
      "outputs": [
        {
          "output_type": "execute_result",
          "data": {
            "text/plain": [
              "['Harriet', 'Shauna']"
            ]
          },
          "metadata": {},
          "execution_count": 1
        }
      ],
      "source": [
        "november_birthdays = {\n",
        "    3: [\"John\"],\n",
        "    8: [\"Harriet\", \"Shauna\"],\n",
        "    11: [\"Davonte\"],\n",
        "    25: [\"Elliott\", \"Li\"]\n",
        "}\n",
        "\n",
        "# Who has a birthday on November 8th?\n",
        "november_birthdays[8]"
      ]
    },
    {
      "cell_type": "markdown",
      "metadata": {
        "id": "3wUfhQPieH5x"
      },
      "source": [
        "### Introduction to Nested Data"
      ]
    },
    {
      "cell_type": "markdown",
      "metadata": {
        "id": "Vr2KSWloeH5y"
      },
      "source": [
        "As a quick demonstration, let's show that we can store arbitrary values in a dictionary.\n",
        "\n",
        "The cell below creates a dictionary which maps strings to other, distinct dictionaries. Those dictionaries then map strings to lists. So, the structure is:\n",
        "\n",
        "- Parent Dictionary:\n",
        "  - Sci Fi Dictionary\n",
        "    - List of Books by Author\n",
        "  - Fantasy Dictionary\n",
        "    - List of Books by Author\n",
        "\n",
        "If this seems like a lot to take in, we'll spend more time on this topic later. For now, just know that we can nest data structures like this to create a hierarchy of relationships."
      ]
    },
    {
      "cell_type": "code",
      "execution_count": 2,
      "metadata": {
        "id": "-4lXH4s1eH5z",
        "outputId": "b3d348cc-9a5a-4a1c-ce35-bfff78851eac",
        "colab": {
          "base_uri": "https://localhost:8080/"
        }
      },
      "outputs": [
        {
          "output_type": "stream",
          "name": "stdout",
          "text": [
            "The internal Fantasy Dictionary:\n",
            "{'Jemisin': ['The Fifth Season', 'The Obelisk Gate', 'The Stone Sky'],\n",
            " 'Le Guin': ['A Wizard of Earthsea',\n",
            "             'The Tombs of Atuan',\n",
            "             'The Farthest Shore'],\n",
            " 'Peake': ['Boy in Darkness', 'Titus Groan', 'Gormenghast', 'Titus Alone']}\n",
            "Fantasy Books Written by Ursula K. Le Guin:\n",
            "['A Wizard of Earthsea', 'The Tombs of Atuan', 'The Farthest Shore']\n"
          ]
        }
      ],
      "source": [
        "from pprint import pprint\n",
        "# Here, we use several nested dictionaries to organize a collection\n",
        "# of fiction\n",
        "fiction_catalogue = {\n",
        "    \"Science Fiction\": {\n",
        "        \"Gibson\": [\"Burning Chrome\", \"Neuromancer\", \"Count Zero\", \"Mona Lisa Overdrive\"],\n",
        "        \"Le Guin\": [\"The Left Hand of Darkness\", \"The Telling\"],\n",
        "        \"Stevenson\": [\"Snow Crash\"]\n",
        "    },\n",
        "    \"Fantasy\": {\n",
        "        \"Peake\": [\"Boy in Darkness\", \"Titus Groan\", \"Gormenghast\", \"Titus Alone\"],\n",
        "        \"Le Guin\": [\"A Wizard of Earthsea\", \"The Tombs of Atuan\", \"The Farthest Shore\"],\n",
        "        \"Jemisin\": [\"The Fifth Season\", \"The Obelisk Gate\", \"The Stone Sky\"],\n",
        "    }\n",
        "}\n",
        "\n",
        "\n",
        "# What if we only want Fantasy books?\n",
        "fantasy_catalogue = fiction_catalogue[\"Fantasy\"]\n",
        "print(\"The internal Fantasy Dictionary:\")\n",
        "pprint(fantasy_catalogue)\n",
        "\n",
        "# OK, let's see what Ursula K. Le Guin wrote.\n",
        "le_guin_catalogue = fantasy_catalogue[\"Le Guin\"]\n",
        "print(\"Fantasy Books Written by Ursula K. Le Guin:\")\n",
        "pprint(le_guin_catalogue)"
      ]
    },
    {
      "cell_type": "markdown",
      "metadata": {
        "id": "mzk5bsK1eH51"
      },
      "source": [
        "### Heterogeneous Python Dictionaries"
      ]
    },
    {
      "cell_type": "markdown",
      "metadata": {
        "id": "Rj7ecdyBeH52"
      },
      "source": [
        "So far, we have mainly seen dictionaries which consistently map one *type* of data to another type.\n",
        "\n",
        "- For example, the key is a string and the value is an integer.\n",
        "\n",
        "However, Python dictionaries allow you to mix and match within a dictionary. The dictionary below has two entries with the following structure:\n",
        "\n",
        "- Key: tuple -> Value: list\n",
        "- Key: string -> Value: dictionary\n",
        "  - Key: string -> Value: int\n",
        "  - Key: int -> Value: tuple"
      ]
    },
    {
      "cell_type": "code",
      "execution_count": 4,
      "metadata": {
        "id": "Az0udTCneH52"
      },
      "outputs": [],
      "source": [
        "messy_dictionary = {\n",
        "    (1, 2): [\"This\", \"is\", \"a\", \"list\", \"with\", \"a\", \"tuple\", \"key\"],\n",
        "    \"dict key\": {\n",
        "        \"example_key\": 1,\n",
        "        0: (3, \"10\")\n",
        "    }\n",
        "}"
      ]
    },
    {
      "cell_type": "markdown",
      "metadata": {
        "id": "umS7uL6JeH53"
      },
      "source": [
        "- We're showing you this to point out that you *can* do it.\n",
        "- However, you should probably be thinking very carefully before you do something like this.\n",
        "- Remember, the point of data structures is usually to **group similar pieces of data together**. If you're mixing and matching data types to this degree, your data might not be meaningfully similar enough to store it in one place.\n",
        "  - If you do this sort of thing, you should be acutely aware of how your code might produce unexpected results."
      ]
    },
    {
      "cell_type": "markdown",
      "metadata": {
        "id": "5vuAW6UCeH53"
      },
      "source": [
        "### Dictionary Comprehensions"
      ]
    },
    {
      "cell_type": "markdown",
      "metadata": {
        "id": "WRigvUXgeH53"
      },
      "source": [
        "You might remember that we can create data structures, such as lists, by using **comprehensions**. We can do the same thing for dictionaries. This allows us to combine iteration and our use of literals to concisely build a dictionary.\n",
        "\n",
        "The diagram below shows the syntax rules for constructing dictionaries using comprehensions."
      ]
    },
    {
      "cell_type": "markdown",
      "metadata": {
        "id": "BAyIPR1ieH53"
      },
      "source": [
        "![picture](https://github.com/gt-cse-6040/bootcamp/blob/main/Module%200/Session%205/dict_comp_format.png?raw=1)"
      ]
    },
    {
      "cell_type": "markdown",
      "metadata": {
        "id": "4Yre99x6eH53"
      },
      "source": [
        "Let's look at an example."
      ]
    },
    {
      "cell_type": "code",
      "execution_count": 5,
      "metadata": {
        "id": "aHLpfjbkeH53",
        "outputId": "c096db30-6173-4ed2-9eac-7188919a5f09",
        "colab": {
          "base_uri": "https://localhost:8080/"
        }
      },
      "outputs": [
        {
          "output_type": "stream",
          "name": "stdout",
          "text": [
            "{'Alex': 22, 'Bob': 95, 'Carol': 95, 'Dave': 79, 'Flow': 23, 'Katie': 57, 'Nate': 45}\n"
          ]
        }
      ],
      "source": [
        "# We'll create a dictionary which uses the customers as keys\n",
        "# and assigns a random value to them in the dictionary\n",
        "from random import randint\n",
        "customers = [\"Alex\",\"Bob\",\"Carol\",\"Dave\",\"Flow\",\"Katie\",\"Nate\"]\n",
        "\n",
        "# The comprehension\n",
        "discount_dict = {\n",
        "    customer: randint(1,100)\n",
        "    for customer in customers\n",
        "}\n",
        "\n",
        "print(discount_dict)"
      ]
    },
    {
      "cell_type": "markdown",
      "metadata": {
        "id": "sfbLWBDaeH53"
      },
      "source": [
        "We can also iterate over two data structures simultaneously to create a dictionary with a comprehension."
      ]
    },
    {
      "cell_type": "markdown",
      "metadata": {
        "id": "B_AJZputeH53"
      },
      "source": [
        "![picture](https://github.com/gt-cse-6040/bootcamp/blob/main/Module%200/Session%205/iterables_diagram.png?raw=1)"
      ]
    },
    {
      "cell_type": "code",
      "execution_count": 6,
      "metadata": {
        "id": "6XHmyheDeH54",
        "outputId": "031b6869-903a-4414-d565-3e5016f1e3a4",
        "colab": {
          "base_uri": "https://localhost:8080/"
        }
      },
      "outputs": [
        {
          "output_type": "stream",
          "name": "stdout",
          "text": [
            "{'Friday': 30.2,\n",
            " 'Monday': 32.6,\n",
            " 'Saturday': 29.9,\n",
            " 'Sunday': 30.5,\n",
            " 'Thursday': 29.8,\n",
            " 'Tuesday': 31.8,\n",
            " 'Wednesday': 33.4}\n"
          ]
        }
      ],
      "source": [
        "from pprint import pprint\n",
        "# Start by creating two sequences\n",
        "days = [\"Sunday\", \"Monday\",\"Tuesday\",\"Wednesday\",\"Thursday\",\"Friday\",\"Saturday\"]\n",
        "temp_C = [30.5,32.6,31.8,33.4,29.8,30.2,29.9]\n",
        "\n",
        "# Creating a dictionary of weekly tempertaures\n",
        "# from the list of temperatures and days\n",
        "# Note that we will cover zip in some detail next week,\n",
        "# when we also discuss the enumerate function\n",
        "\n",
        "weekly_temp = {day: temp for (day, temp) in zip(days, temp_C)}\n",
        "\n",
        "pprint(weekly_temp)"
      ]
    },
    {
      "cell_type": "markdown",
      "metadata": {
        "id": "WLfNL0aJeH54"
      },
      "source": [
        "## Dictionary-Like Containers: Counters and Default Dictionaries"
      ]
    },
    {
      "cell_type": "markdown",
      "metadata": {
        "id": "TamMblqceH54"
      },
      "source": [
        "### Why Do These Exist?"
      ]
    },
    {
      "cell_type": "markdown",
      "metadata": {
        "id": "wendG1k_eH54"
      },
      "source": [
        "Dictionaries are very flexible data structures. There are a few common use-cases for them, and it might be nice to have something slightly customized for those purposes.\n",
        "- These types are provided through Python's built-in [Collections module](https://docs.python.org/3/library/collections.html#). Follow this link for more details.\n",
        "- We'll be focusing on the following types here:\n",
        "  - Counters\n",
        "  - Default Dictionaries\n",
        "- **N.B.** Counters and Default Dictionaries are just subclasses of dictionaries\n",
        "  - We can verify this by running the following code cell\n",
        "  - It shows us that counters and default dictionaries are, in fact, dictionaries"
      ]
    },
    {
      "cell_type": "code",
      "execution_count": 3,
      "metadata": {
        "id": "xQrRkuRTeH54",
        "outputId": "43fdf4db-0e32-4da2-ba9c-2daa3f053498",
        "colab": {
          "base_uri": "https://localhost:8080/"
        }
      },
      "outputs": [
        {
          "output_type": "stream",
          "name": "stdout",
          "text": [
            "Is a counter a dictionary? True\n",
            "Is a default dictionary a dictionary? True\n"
          ]
        }
      ],
      "source": [
        "from collections import Counter, defaultdict\n",
        "print(\"Is a counter a dictionary?\", isinstance(Counter(), dict))\n",
        "print(\"Is a default dictionary a dictionary?\", isinstance(defaultdict(), dict))"
      ]
    },
    {
      "cell_type": "markdown",
      "metadata": {
        "id": "rYkJ7JfyeH54"
      },
      "source": [
        "**IMPORTANT!** Sometimes, our autograder may require your solution to be a regular dictionary. In these cases, you may still use a counter or defaultdict to solve the problem. You will simply need to cast your container to a dictionary at the end of your solution. You can do this by writing calling `dict(my_container)`, where `my_container` is your default dictionary or counter."
      ]
    },
    {
      "cell_type": "markdown",
      "metadata": {
        "id": "8p-lTpjOeH54"
      },
      "source": [
        "### Counters"
      ]
    },
    {
      "cell_type": "markdown",
      "metadata": {
        "id": "TEdDCtmweH54"
      },
      "source": [
        "[Counters](https://docs.python.org/3/library/collections.html#collections.Counter) allow us to quickly and easily build dictionaries which store the count of elements contained in an iterable.\n",
        "- For example, suppose we wish to count the number of occurrences of a character in a string.\n",
        "  - Here's a sample string: `s = \"bbbaaaabaaa\"`\n",
        "  - In this case, `'a'` occurs 7 times and `'b'` occurs 4 times.\n",
        "- Let's say we want to construct a dictionary `count` such that `count['a'] == 7` and `count['b'] == 4`.\n",
        "  - Method 1 in the cell below does _not_ work! Try uncommenting it to see.\n",
        "    - We need to initialize the count to 0 for every new unique key.\n",
        "  - Method 2 works, but is pretty verbose. Do we really have to write all of this every time we want to count elements and store them in a dictionary?"
      ]
    },
    {
      "cell_type": "code",
      "execution_count": 7,
      "metadata": {
        "id": "WS_7VWGyeH54",
        "outputId": "0025c034-cf3d-4a08-edf9-bd3e70a80fe7",
        "colab": {
          "base_uri": "https://localhost:8080/"
        }
      },
      "outputs": [
        {
          "output_type": "execute_result",
          "data": {
            "text/plain": [
              "{'b': 4, 'a': 7}"
            ]
          },
          "metadata": {},
          "execution_count": 7
        }
      ],
      "source": [
        "# Defining our string\n",
        "s = \"bbbaaaabaaa\"\n",
        "\n",
        "# METHOD 1 (does not work!) -------------------------------------------\n",
        "#count = {}\n",
        "#for c in s:\n",
        "#    count[c] += 1\n",
        "#count\n",
        "\n",
        "# METHOD 2 (works, but pretty long!) ----------------------------------\n",
        "# Create an empty dictionary\n",
        "count = {}\n",
        "for c in s:\n",
        "    # Check for membership\n",
        "    if c not in count:\n",
        "        count[c] = 0\n",
        "    assert c in count\n",
        "    # Update the count\n",
        "    count[c] += 1\n",
        "count"
      ]
    },
    {
      "cell_type": "markdown",
      "metadata": {
        "id": "Rks7VGsseH54"
      },
      "source": [
        "Counters let us do this automatically. Here's the same task, but by using a counter."
      ]
    },
    {
      "cell_type": "code",
      "execution_count": 8,
      "metadata": {
        "id": "-Kt_tyzceH54",
        "outputId": "f927d817-1f26-4b1e-fa60-4deaeda5d094",
        "colab": {
          "base_uri": "https://localhost:8080/"
        }
      },
      "outputs": [
        {
          "output_type": "stream",
          "name": "stdout",
          "text": [
            "Initial : Counter({'a': 7, 'b': 4})\n",
            "Updated: Counter({'a': 10, 'b': 6, 'c': 1, 'd': 1})\n",
            "How many times have we seen the letter \"z\"?  0\n"
          ]
        }
      ],
      "source": [
        "from collections import Counter\n",
        "\n",
        "# Create the counter\n",
        "count = Counter(s)\n",
        "print ('Initial :', count)\n",
        "\n",
        "# We can add to it by supplying a new iterable and using .update()\n",
        "count.update('abcdaab')\n",
        "print ('Updated:', count)\n",
        "\n",
        "# If a value hasn't occurred, our counter won't throw an error!\n",
        "print('How many times have we seen the letter \"z\"? ', count[\"z\"])"
      ]
    },
    {
      "cell_type": "markdown",
      "metadata": {
        "id": "Tk5QgjdieH55"
      },
      "source": [
        "### Default Dictionaries"
      ]
    },
    {
      "cell_type": "markdown",
      "metadata": {
        "id": "v104O9EqeH55"
      },
      "source": [
        "Sometimes, you might want to create a dictionary which is guaranteed to behave in certain ways when you try to index on a non-existant key. We can do this with [Default Dictionaries](https://docs.python.org/3/library/collections.html#defaultdict-objects).\n",
        "\n",
        "- Remember, we can use `.get()` to get a default value.\n",
        "  - However, we'll need to specify the default value *each time* we try to retrieve a value\n",
        "  - The default value will *not* be automatically added to the dictionary\n",
        "- Default Dictionaries let us automatically insert a value into the dictionary when we try to index on a non-existant key.\n",
        "  - We do this by giving it a function, which will return some value by default.\n",
        "  - Let's look at an example."
      ]
    },
    {
      "cell_type": "code",
      "execution_count": 9,
      "metadata": {
        "id": "wPVOPGhBeH55",
        "outputId": "9071f325-7fd5-43f9-f3c0-8f007366add1",
        "colab": {
          "base_uri": "https://localhost:8080/"
        }
      },
      "outputs": [
        {
          "output_type": "stream",
          "name": "stdout",
          "text": [
            "defaultdict(<class 'int'>, {'b': 4, 'a': 7})\n",
            "defaultdict(<function <lambda> at 0x7b1f081da4d0>,\n",
            "            {'Cedric Diggory': 'Hufflepuff',\n",
            "             'Draco Malfoy': 'Slytherin',\n",
            "             'Harry Potter': 'Gryffindor',\n",
            "             'Hermione Granger': 'Gryffindor',\n",
            "             'Luna Lovegood': 'Ravenclaw',\n",
            "             'Ron Weasley': 'Gryffindor'})\n",
            "Dumbledore's house is: UNKNOWN!\n"
          ]
        }
      ],
      "source": [
        "from pprint import pprint\n",
        "# Let's create a counter-like dictionary\n",
        "default_count = defaultdict(int)\n",
        "\n",
        "# If a key doesn't exist, it will default to 0 and be added to the\n",
        "# dictionary\n",
        "for c in s:\n",
        "    default_count[c] += 1\n",
        "\n",
        "print(default_count)\n",
        "\n",
        "\n",
        "\n",
        "# What if we want to create a dictionary which returns a default\n",
        "# string?\n",
        "# Let's assume we have a starting dictionary\n",
        "harry_potter_dict = {\n",
        "    \"Harry Potter\": \"Gryffindor\",\n",
        "    \"Ron Weasley\": \"Gryffindor\",\n",
        "    \"Hermione Granger\": \"Gryffindor\",\n",
        "    \"Luna Lovegood\": \"Ravenclaw\",\n",
        "    \"Draco Malfoy\": \"Slytherin\",\n",
        "    \"Cedric Diggory\": \"Hufflepuff\"\n",
        "}\n",
        "# Now, create a default dictionary\n",
        "harry_potter_default = defaultdict(lambda: \"UNKNOWN!\", harry_potter_dict)\n",
        "pprint(harry_potter_default)\n",
        "# What happens if we try to index on a non-existant key?\n",
        "print(\"Dumbledore's house is:\", harry_potter_default[\"Albus Dumbeldore\"])"
      ]
    },
    {
      "cell_type": "markdown",
      "metadata": {
        "id": "7hTf6xtxeH55"
      },
      "source": [
        "## Memory, Performance, and Limitations"
      ]
    },
    {
      "cell_type": "markdown",
      "metadata": {
        "id": "kvQsVl8reH55"
      },
      "source": [
        "### Memory Considerations"
      ]
    },
    {
      "cell_type": "markdown",
      "metadata": {
        "id": "51sU996peH55"
      },
      "source": [
        "- In a dictionary, you need to store the key *and* the value.\n",
        "- In a list or tuple, you only need to store the value.\n",
        "\n",
        "So, depending on how you organize things, your dictionary may require more memory.\n",
        "\n",
        "If you use a default dictionary, indexing a new key will use more memory (because you are creating a new record). Keep this in mind if you plan on indexing a lot of arbitrary keys!"
      ]
    },
    {
      "cell_type": "markdown",
      "metadata": {
        "id": "Pa1xEde-eH55"
      },
      "source": [
        "### What Data Structure is Faster?"
      ]
    },
    {
      "cell_type": "markdown",
      "metadata": {
        "id": "0DlU-aRaeH55"
      },
      "source": [
        "Python dictionaries allow us to associate a value to a unique key, and then to quickly access this value. It’s a good idea to use them whenever we want to find (lookup for) a certain Python object. We can also use lists for this scope, **but they are much slower than dictionaries.**"
      ]
    },
    {
      "cell_type": "code",
      "execution_count": 10,
      "metadata": {
        "id": "wVRyUQxOeH55"
      },
      "outputs": [],
      "source": [
        "def find_number_in_list(lst, number):\n",
        "    if number in lst:\n",
        "        return True\n",
        "    else:\n",
        "        return False\n",
        "\n",
        "def find_number_in_dict(dct, number):\n",
        "    if number in dct:\n",
        "        return True\n",
        "    else:\n",
        "        return False\n",
        "\n",
        "short_list = list(range(100))\n",
        "long_list = list(range(10000000))\n",
        "\n",
        "short_dict = {x:x*5 for x in range(1,100)}\n",
        "long_dict = {x:x*5 for x in range(1,10000000)}"
      ]
    },
    {
      "cell_type": "code",
      "execution_count": 11,
      "metadata": {
        "id": "-0xW4AK2eH59",
        "outputId": "e8a06d45-818d-4db0-bca2-3e73bde02ade",
        "colab": {
          "base_uri": "https://localhost:8080/"
        }
      },
      "outputs": [
        {
          "output_type": "stream",
          "name": "stdout",
          "text": [
            "1.11 µs ± 11.3 ns per loop (mean ± std. dev. of 7 runs, 1000000 loops each)\n"
          ]
        }
      ],
      "source": [
        "%timeit find_number_in_list(short_list, 99)"
      ]
    },
    {
      "cell_type": "code",
      "execution_count": 12,
      "metadata": {
        "id": "_kXqMTmNeH59",
        "outputId": "645a96e4-0a65-48ee-9773-432f657e794e",
        "colab": {
          "base_uri": "https://localhost:8080/"
        }
      },
      "outputs": [
        {
          "output_type": "stream",
          "name": "stdout",
          "text": [
            "107 ms ± 11.9 ms per loop (mean ± std. dev. of 7 runs, 10 loops each)\n"
          ]
        }
      ],
      "source": [
        "%timeit find_number_in_list(long_list, 9999999)"
      ]
    },
    {
      "cell_type": "code",
      "execution_count": 13,
      "metadata": {
        "id": "GyTjMwPUeH59",
        "outputId": "321d2a02-4cdc-47dd-a2af-963c9380cea4",
        "colab": {
          "base_uri": "https://localhost:8080/"
        }
      },
      "outputs": [
        {
          "output_type": "stream",
          "name": "stdout",
          "text": [
            "162 ns ± 37.9 ns per loop (mean ± std. dev. of 7 runs, 10000000 loops each)\n"
          ]
        }
      ],
      "source": [
        "%timeit find_number_in_dict(short_dict, 99)"
      ]
    },
    {
      "cell_type": "code",
      "execution_count": 14,
      "metadata": {
        "id": "2tqOJPoseH59",
        "outputId": "e866edc3-7e77-486b-a403-601b47877ad7",
        "colab": {
          "base_uri": "https://localhost:8080/"
        }
      },
      "outputs": [
        {
          "output_type": "stream",
          "name": "stdout",
          "text": [
            "184 ns ± 37.7 ns per loop (mean ± std. dev. of 7 runs, 10000000 loops each)\n"
          ]
        }
      ],
      "source": [
        "%timeit find_number_in_dict(long_dict, 9999999)"
      ]
    },
    {
      "cell_type": "markdown",
      "metadata": {
        "id": "p4YbaBjqeH59"
      },
      "source": [
        "This is because you have to go through the entire list to get what you want. However, a dictionary will return the value you ask for without going through all keys.\n",
        "\n",
        "**But this keep this in mind - Dictionaries still use more memory than lists, since you need to use space for the keys and the lookup as well, while lists use space only for the values.**"
      ]
    },
    {
      "cell_type": "markdown",
      "metadata": {
        "id": "qeZzQppNeH59"
      },
      "source": [
        "### Limitations"
      ]
    },
    {
      "cell_type": "markdown",
      "metadata": {
        "id": "k-PO1dg4eH59"
      },
      "source": [
        "- Dictionaries do not inherently have an order. If you need to do work with sequences, dictionaries may not do what you want them to do.\n",
        "- Certain scientific computing tasks, like matrix multiplication, can be sped up by using different data structures. Dictionaries may not be a good fit for this sort of work.\n",
        "- Dictionary keys must be unique.\n",
        "\n",
        "Generally, try to avoid using a dictionary if a tuple, list, or set will work instead."
      ]
    },
    {
      "cell_type": "markdown",
      "metadata": {
        "id": "9uc3hH8WeH59"
      },
      "source": [
        "## Summary"
      ]
    },
    {
      "cell_type": "markdown",
      "metadata": {
        "id": "FeSCQJNVeH5-"
      },
      "source": [
        "- Dictionaries can be used to group other data containers, like lists, tuples, and even other dictionaries.\n",
        "- The [Collections module](https://docs.python.org/3/library/collections.html#) gives us access to Counters and Default Dictionaries.\n",
        "  - These make common tasks which use dictionaries even easier.\n",
        "- Dictionaries tend to be much faster than lists and tuples when we want to check for membership, add, or remove items.\n",
        "  - However, lists and tuples will be better suited for tasks which can be understood by ordering the elements."
      ]
    }
  ],
  "metadata": {
    "colab": {
      "provenance": [],
      "include_colab_link": true
    },
    "kernelspec": {
      "display_name": "Python 3",
      "name": "python3"
    },
    "language_info": {
      "codemirror_mode": {
        "name": "ipython",
        "version": 3
      },
      "file_extension": ".py",
      "mimetype": "text/x-python",
      "name": "python",
      "nbconvert_exporter": "python",
      "pygments_lexer": "ipython3",
      "version": "3.10.12"
    }
  },
  "nbformat": 4,
  "nbformat_minor": 0
}
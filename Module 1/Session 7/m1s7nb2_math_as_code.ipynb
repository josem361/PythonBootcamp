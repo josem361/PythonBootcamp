{
  "cells": [
    {
      "cell_type": "markdown",
      "metadata": {
        "id": "view-in-github",
        "colab_type": "text"
      },
      "source": [
        "<a href=\"https://colab.research.google.com/github/josem361/PythonBootcamp/blob/main/Module%201/Session%207/m1s7nb2_math_as_code.ipynb\" target=\"_parent\"><img src=\"https://colab.research.google.com/assets/colab-badge.svg\" alt=\"Open In Colab\"/></a>"
      ]
    },
    {
      "cell_type": "markdown",
      "id": "94d48612",
      "metadata": {
        "id": "94d48612"
      },
      "source": [
        "# Math as Code\n",
        "    \n",
        "    a. *Notation*\n",
        "    \n",
        "    b. *Sigma and Capital Pi*\n",
        "    \n",
        "    c. *Other Symbols*\n",
        "    \n",
        "    d. *Functions*"
      ]
    },
    {
      "cell_type": "code",
      "execution_count": 32,
      "id": "1c9e9523",
      "metadata": {
        "id": "1c9e9523"
      },
      "outputs": [],
      "source": [
        "import numpy as np\n",
        "import pandas as pd"
      ]
    },
    {
      "cell_type": "markdown",
      "id": "9f991718",
      "metadata": {
        "id": "9f991718"
      },
      "source": [
        "## Why are we covering this topic?\n",
        "\n",
        "For the remainder of the course, the students will be developing the algorithms for the analysis of data, including linear regression, classification, kmeans, knn, and PCA. While Python has library modules which perform these functions simply by importing and calling them, the class purpose is for you to understand the computational methods underlying these functions.\n",
        "\n",
        "As you will see/have seen in the Lesson 12 videos for Linear Regression, we will be working through understanding the underlying logic behind the function, and then deriving the appropriate algorithm for it in mathematical terms. In the end we will have an algorithm, or a mathematical formula, which we will then put into Python code.\n",
        "\n",
        "Additionally, in the homework notebooks and final exam, you MAY be asked to create an equation in code, given an analysis scenario and an equation to reproduce. An example of this that you have already seen is in Practice MidTerm 1 Problem 26. You we provided an equation for computing correlation, and the exercise required you to write a function to output the correlation.\n",
        "\n",
        "Finally, many of the classes in this program require the student to work through deriving the algorithms and writing them in code.\n",
        "\n",
        "#### Here is the (summarized) requirement from the PMT1.26 notebook:"
      ]
    },
    {
      "cell_type": "markdown",
      "id": "d0e2e63d",
      "metadata": {
        "id": "d0e2e63d"
      },
      "source": [
        "Given `data`, a `list` of `dicts`, and `keys`, a `list` of `strings`, complete the function `create_cor_dict(data, key)` to find the correlation between each nutrient listed and all of the other nutrients listed.\n",
        "\n",
        "Each dictionary in `data` should be treated as a single observation. You can compute the correlation with the following formulas.\n",
        "- $n$ is the number of observations.\n",
        "- $\\bar{x}, \\bar{y}$ - Means nutrient $x$, and nutrient $y$.\n",
        "- $\\bar{xy} = \\frac{1}{n}\\sum_{i=0}^{n-1}x_iy_i$\n",
        "- $\\sigma_x =$ **population** standard deviation - check your stats notes and documentation to make sure that you are calculating this correctly\n",
        "- Correlation: $$c=\\frac{\\bar{xy} - (\\bar{x})(\\bar{y})}{\\sigma_x \\sigma_y}$$"
      ]
    },
    {
      "cell_type": "markdown",
      "id": "62ab06c3",
      "metadata": {
        "id": "62ab06c3"
      },
      "source": [
        "#### As you can see, you have been given an equation and required to write a function for that equation.\n",
        "\n",
        "If you want to review the problem, you can access the solution on the PMT1 solutions page."
      ]
    },
    {
      "cell_type": "markdown",
      "id": "648b2aa8",
      "metadata": {
        "id": "648b2aa8"
      },
      "source": [
        "Finally, another example is the Fall 2022 Final Exam, which we will begin working through later in this session. Exercises 4, 5, and 6 (which we will be covering next session) all provide a mathematical concept and equation for the student to replicate in code.\n",
        "\n",
        "#### So let's get started."
      ]
    },
    {
      "cell_type": "markdown",
      "id": "4a28bdcc",
      "metadata": {
        "id": "4a28bdcc"
      },
      "source": [
        "## Notation Conventions"
      ]
    },
    {
      "cell_type": "markdown",
      "id": "e3739b09",
      "metadata": {
        "id": "e3739b09"
      },
      "source": [
        "In general, we will use the following conventions. For a more complete listing, see the following:  https://en.wikipedia.org/wiki/List_of_mathematical_symbols_by_subject"
      ]
    },
    {
      "cell_type": "markdown",
      "id": "16e0b750",
      "metadata": {
        "id": "16e0b750"
      },
      "source": [
        "### Variables\n",
        "\n",
        "\n",
        "- *s* - italic lowercase letters for scalars (e.g. a number)\n",
        "- **x** - bold lowercase letters for vectors (e.g. a 2D point)\n",
        "- **A** - bold uppercase letters for matrices (e.g. a 3D transformation)\n",
        "- *θ* - italic lowercase Greek letters for constants and special variables (e.g. [polar angle *θ*, *theta*](https://en.wikipedia.org/wiki/Spherical_coordinate_system))"
      ]
    },
    {
      "cell_type": "markdown",
      "id": "52b1f742",
      "metadata": {
        "id": "52b1f742"
      },
      "source": [
        "### Equality symbols in equations\n",
        "\n",
        "\n",
        "- `=` is for equality (values are the same)\n",
        "- `≠` is for inequality (value are not the same)\n",
        "- `≈` is for approximately equal to (`π ≈ 3.14159`)\n",
        "- `:=` is for definition (A is defined as B)"
      ]
    },
    {
      "cell_type": "code",
      "execution_count": 33,
      "id": "31113665",
      "metadata": {
        "id": "31113665",
        "outputId": "4c15a4c4-214c-4634-f7f1-871188488d3b",
        "colab": {
          "base_uri": "https://localhost:8080/"
        }
      },
      "outputs": [
        {
          "output_type": "execute_result",
          "data": {
            "text/plain": [
              "False"
            ]
          },
          "metadata": {},
          "execution_count": 33
        }
      ],
      "source": [
        "## some examples\n",
        "## equality\n",
        "2 == 3"
      ]
    },
    {
      "cell_type": "code",
      "execution_count": 34,
      "id": "543b2475",
      "metadata": {
        "id": "543b2475",
        "outputId": "d0e8ebe0-8904-48c8-9f9e-87713e10fd33",
        "colab": {
          "base_uri": "https://localhost:8080/"
        }
      },
      "outputs": [
        {
          "output_type": "execute_result",
          "data": {
            "text/plain": [
              "True"
            ]
          },
          "metadata": {},
          "execution_count": 34
        }
      ],
      "source": [
        "## inequality\n",
        "2 != 3"
      ]
    },
    {
      "cell_type": "code",
      "execution_count": 35,
      "id": "f94d705d",
      "metadata": {
        "id": "f94d705d",
        "outputId": "40ab6951-1bd0-485a-f869-6292395258a1",
        "colab": {
          "base_uri": "https://localhost:8080/"
        }
      },
      "outputs": [
        {
          "output_type": "stream",
          "name": "stdout",
          "text": [
            "False\n",
            "True\n"
          ]
        }
      ],
      "source": [
        "## approximately equal\n",
        "import math\n",
        "print(math.isclose(math.pi, 3.14, rel_tol = 1e-09, abs_tol = 0.0))\n",
        "print(math.isclose(2.005, 2.125, abs_tol = 0.25))\n",
        "\n",
        "## Documentation:\n",
        "## https://docs.python.org/3/library/math.html\n",
        "## https://www.geeksforgeeks.org/python-math-library-isclose-method/"
      ]
    },
    {
      "cell_type": "markdown",
      "id": "e70b336a",
      "metadata": {
        "id": "e70b336a"
      },
      "source": [
        "### Sigma\n",
        "\n",
        "The Greek `Σ` (Sigma) is for [Summation](https://en.wikipedia.org/wiki/Summation). In other words: summing up some numbers.\n",
        "\n",
        "$$\\sum_{i=1}^{100}i$$\n",
        "\n",
        "Here, `i=1` says to start at `1` and end at the number above the Sigma, `100`. These are the lower and upper bounds, respectively. The `i` to the right of the `Σ` is what we are summing.\n",
        "\n",
        "range() function:  https://www.geeksforgeeks.org/python-range-function/\n",
        "\n",
        "**Remember that**: `range()` in python has an `inclusive lower bound and exclusive upper bound`, meaning that `... for i in range(100)` is equivalent to `the sum of ... for i=0 to i=n-1`.\n",
        "\n",
        "We can also specify the lower and upper bounds, along with the step size (see below)."
      ]
    },
    {
      "cell_type": "code",
      "execution_count": 36,
      "id": "6e53f23e",
      "metadata": {
        "id": "6e53f23e",
        "outputId": "e8b5b01b-36db-446a-d53b-9b849b2889a1",
        "colab": {
          "base_uri": "https://localhost:8080/"
        }
      },
      "outputs": [
        {
          "output_type": "execute_result",
          "data": {
            "text/plain": [
              "5050"
            ]
          },
          "metadata": {},
          "execution_count": 36
        }
      ],
      "source": [
        "## example\n",
        "sum([i for i in range(1,101)])  ## why do we go to 101?"
      ]
    },
    {
      "cell_type": "code",
      "execution_count": 37,
      "id": "32001c35",
      "metadata": {
        "id": "32001c35",
        "outputId": "e14e5e20-35a4-4ef2-aa2f-0abce12a1b4e",
        "colab": {
          "base_uri": "https://localhost:8080/"
        }
      },
      "outputs": [
        {
          "output_type": "execute_result",
          "data": {
            "text/plain": [
              "5050"
            ]
          },
          "metadata": {},
          "execution_count": 37
        }
      ],
      "source": [
        "## same\n",
        "sum([i for i in range(1,101,1)])"
      ]
    },
    {
      "cell_type": "markdown",
      "id": "1ce0c9ee",
      "metadata": {
        "id": "1ce0c9ee"
      },
      "source": [
        "#### Let's look at a slightly more complex example.\n",
        "\n",
        "$$\\sum_{i=1}^{100}(2i+1)$$\n"
      ]
    },
    {
      "cell_type": "code",
      "execution_count": 38,
      "id": "5ba50280",
      "metadata": {
        "id": "5ba50280",
        "outputId": "31e8ce01-02e3-44b2-dba4-73e2e53318a7",
        "colab": {
          "base_uri": "https://localhost:8080/"
        }
      },
      "outputs": [
        {
          "output_type": "execute_result",
          "data": {
            "text/plain": [
              "10200"
            ]
          },
          "metadata": {},
          "execution_count": 38
        }
      ],
      "source": [
        "sum([2*i + 1 for i in range(1,101)])"
      ]
    },
    {
      "cell_type": "code",
      "execution_count": 39,
      "id": "828b80c6",
      "metadata": {
        "id": "828b80c6",
        "outputId": "8ad70fb4-a8c9-42b7-f5e2-818cb40b43fb",
        "colab": {
          "base_uri": "https://localhost:8080/"
        }
      },
      "outputs": [
        {
          "output_type": "execute_result",
          "data": {
            "text/plain": [
              "10200"
            ]
          },
          "metadata": {},
          "execution_count": 39
        }
      ],
      "source": [
        "## more readable version\n",
        "sum([(2*i + 1) for i in range(1,101)])"
      ]
    },
    {
      "cell_type": "markdown",
      "id": "43fb72f5",
      "metadata": {
        "id": "43fb72f5"
      },
      "source": [
        "#### The summation notation can also be nested.\n",
        "\n",
        "This is the same as nesting a `for` loop. You should evaluate the right-most sigma first, unless the author has enclosed them in parentheses to alter the order. Below is a simple example, and since this example deals with with finite sums, the order does not matter. The best practice, however, is to work from right to left in the summations.\n",
        "\n",
        "$$\\sum_{i=1}^{5}\\sum_{j=2}^{10}(8ij)$$"
      ]
    },
    {
      "cell_type": "code",
      "execution_count": 40,
      "id": "87a4b9bd",
      "metadata": {
        "id": "87a4b9bd",
        "outputId": "4f9ee579-44ac-4314-b765-84ba60ec5de8",
        "colab": {
          "base_uri": "https://localhost:8080/"
        }
      },
      "outputs": [
        {
          "output_type": "execute_result",
          "data": {
            "text/plain": [
              "6480"
            ]
          },
          "metadata": {},
          "execution_count": 40
        }
      ],
      "source": [
        "# using for loops\n",
        "x = 0\n",
        "for i in range(1,6):\n",
        "    for j in range(2,11):\n",
        "            x += 8*i*j\n",
        "x"
      ]
    },
    {
      "cell_type": "code",
      "execution_count": 41,
      "id": "09193947",
      "metadata": {
        "id": "09193947",
        "outputId": "56dbbe7e-801a-4e88-df7c-273f17be4531",
        "colab": {
          "base_uri": "https://localhost:8080/"
        }
      },
      "outputs": [
        {
          "output_type": "execute_result",
          "data": {
            "text/plain": [
              "6480"
            ]
          },
          "metadata": {},
          "execution_count": 41
        }
      ],
      "source": [
        "# using a comprehension\n",
        "sum([sum([(8*i*j)  for j in range(2,11)]) for i in range(1,6)])"
      ]
    },
    {
      "cell_type": "markdown",
      "id": "d8189aff",
      "metadata": {
        "id": "d8189aff"
      },
      "source": [
        "### Capital Pi\n",
        "\n",
        "The Capital Pi or \"Big Pi\" is very similar to Sigma ( $\\sum$ ), except we are using multiplication to find the product of a sequence of values.\n",
        "\n",
        "For example:\n",
        "\n",
        "$$ j = \\prod_{i=1}^{10}i$$"
      ]
    },
    {
      "cell_type": "markdown",
      "id": "51f3044b",
      "metadata": {
        "id": "51f3044b"
      },
      "source": [
        "This is the same as:\n",
        "\n",
        "1 * 2 * 3 * 4 * 5 * 6 * 7 * 8 * 9 * 10"
      ]
    },
    {
      "cell_type": "code",
      "execution_count": 42,
      "id": "b4d5d003",
      "metadata": {
        "id": "b4d5d003",
        "outputId": "b0b718af-2a9f-4e33-eae7-2fe42cfa5aae",
        "colab": {
          "base_uri": "https://localhost:8080/"
        }
      },
      "outputs": [
        {
          "output_type": "execute_result",
          "data": {
            "text/plain": [
              "3628800"
            ]
          },
          "metadata": {},
          "execution_count": 42
        }
      ],
      "source": [
        "## example\n",
        "j = 1  ## have to start with a positive number\n",
        "for i in range(1,11):\n",
        "    j = i*j\n",
        "j"
      ]
    },
    {
      "cell_type": "markdown",
      "id": "35eb3307",
      "metadata": {
        "id": "35eb3307"
      },
      "source": [
        "#### The reduce() function in Python is also good for doing accumulations, such as $\\sum$ and $\\prod$.\n",
        "\n",
        "It is part of the **functools** module, that you must import to use.\n",
        "\n",
        "The **reduce(fun,seq)** function is used to apply a particular function passed in its argument to all of the list elements that are in the sequence passed along.\n",
        "\n",
        "reduce() take two arguments:\n",
        "\n",
        "    1. fun -- This is the function to apply\n",
        "    2. seq -- The is the sequence that we want to apply the function on (generally a list or list-like variable)\n",
        "    \n",
        "Here is how it works:\n",
        "\n",
        "    1. At first step, first two elements of sequence are picked and the result is obtained.\n",
        "    \n",
        "    2. Next step is to apply the same function to the previously attained result and the number just succeeding the second element and the result is again stored.\n",
        "    \n",
        "    3. This process continues till no more elements are left in the container.\n",
        "    \n",
        "    4. The final returned result is returned\n",
        "\n",
        "\n",
        "\n",
        "https://docs.python.org/3/library/functools.html\n",
        "\n",
        "https://www.geeksforgeeks.org/reduce-in-python/"
      ]
    },
    {
      "cell_type": "code",
      "execution_count": 43,
      "id": "f1319cec",
      "metadata": {
        "id": "f1319cec",
        "outputId": "200d9ee8-b0ce-4302-e452-c5a7a9ddebf7",
        "colab": {
          "base_uri": "https://localhost:8080/"
        }
      },
      "outputs": [
        {
          "output_type": "stream",
          "name": "stdout",
          "text": [
            "The sum of the list elements is : 28\n"
          ]
        }
      ],
      "source": [
        "import functools\n",
        "\n",
        "# initializing list\n",
        "num_list = [1,2,3,4,5,6,7]\n",
        "\n",
        "# using reduce to compute sum of list\n",
        "# note that we are using a lambda function\n",
        "print(\"The sum of the list elements is : \", end=\"\")\n",
        "print(functools.reduce(lambda a, b: a+b, num_list))"
      ]
    },
    {
      "cell_type": "code",
      "execution_count": 44,
      "id": "789450f4",
      "metadata": {
        "id": "789450f4",
        "outputId": "95ee3194-41c2-49de-d437-7f73d0fb72b2",
        "colab": {
          "base_uri": "https://localhost:8080/"
        }
      },
      "outputs": [
        {
          "output_type": "stream",
          "name": "stdout",
          "text": [
            "The product of the list elements is : 5040\n"
          ]
        }
      ],
      "source": [
        "# using reduce to compute product list\n",
        "print(\"The product of the list elements is : \", end=\"\")\n",
        "print(functools.reduce(lambda a, b: a*b, num_list))"
      ]
    },
    {
      "cell_type": "code",
      "execution_count": 45,
      "id": "6ce09ed8",
      "metadata": {
        "id": "6ce09ed8",
        "outputId": "d1654a54-d9fe-4577-fdc8-eeec40406c9b",
        "colab": {
          "base_uri": "https://localhost:8080/"
        }
      },
      "outputs": [
        {
          "output_type": "stream",
          "name": "stdout",
          "text": [
            "The maximum element of the list is : 7\n"
          ]
        }
      ],
      "source": [
        "# using reduce to compute maximum element from list\n",
        "print(\"The maximum element of the list is : \", end=\"\")\n",
        "print(functools.reduce(lambda a, b: a if a > b else b, num_list))"
      ]
    },
    {
      "cell_type": "markdown",
      "id": "aed2e004",
      "metadata": {
        "id": "aed2e004"
      },
      "source": [
        "#### You can also use the functions within the `operator`  module to do the accumulations.\n",
        "\n",
        "The `operator` module has predefined functions for many mathematical, logical, relational, bitwise etc operations.\n",
        "\n",
        "Here are two examples, based on what we have been doing so far:\n",
        "\n",
        "    1. add(a, b) :- This function returns addition of the given arguments.\n",
        "        Operation – a + b.\n",
        "\n",
        "    2. mul(a, b) :- This function returns product of the given arguments.\n",
        "        Operation – a * b.\n",
        "\n",
        "\n",
        "https://docs.python.org/3/library/operator.html\n",
        "\n",
        "https://www.geeksforgeeks.org/operator-functions-in-python-set-1/"
      ]
    },
    {
      "cell_type": "code",
      "execution_count": 46,
      "id": "3f347bff",
      "metadata": {
        "id": "3f347bff",
        "outputId": "bb082e61-541a-4123-8c77-144e46beca2f",
        "colab": {
          "base_uri": "https://localhost:8080/"
        }
      },
      "outputs": [
        {
          "output_type": "execute_result",
          "data": {
            "text/plain": [
              "9"
            ]
          },
          "metadata": {},
          "execution_count": 46
        }
      ],
      "source": [
        "a=5\n",
        "b=4\n",
        "\n",
        "# basic working with operator\n",
        "import operator\n",
        "\n",
        "operator.add(a, b)"
      ]
    },
    {
      "cell_type": "code",
      "execution_count": 47,
      "id": "271fe980",
      "metadata": {
        "id": "271fe980",
        "outputId": "0658550a-cc0e-47c2-885d-c5d83d5e4821",
        "colab": {
          "base_uri": "https://localhost:8080/"
        }
      },
      "outputs": [
        {
          "output_type": "execute_result",
          "data": {
            "text/plain": [
              "20"
            ]
          },
          "metadata": {},
          "execution_count": 47
        }
      ],
      "source": [
        "operator.mul(a, b)"
      ]
    },
    {
      "cell_type": "markdown",
      "id": "0dc01d2d",
      "metadata": {
        "id": "0dc01d2d"
      },
      "source": [
        "Now let's combine an operator function with reduce()."
      ]
    },
    {
      "cell_type": "code",
      "execution_count": 48,
      "id": "d0f9eaf5",
      "metadata": {
        "id": "d0f9eaf5",
        "outputId": "8c03fb9a-7c85-4b06-ce16-446f051356b3",
        "colab": {
          "base_uri": "https://localhost:8080/"
        }
      },
      "outputs": [
        {
          "output_type": "execute_result",
          "data": {
            "text/plain": [
              "28"
            ]
          },
          "metadata": {},
          "execution_count": 48
        }
      ],
      "source": [
        "# add and accumulate the elements of the num_list\n",
        "functools.reduce(operator.add, num_list)"
      ]
    },
    {
      "cell_type": "code",
      "execution_count": 49,
      "id": "016233a6",
      "metadata": {
        "id": "016233a6",
        "outputId": "1de14783-f032-48f0-ce56-1a04fdb87674",
        "colab": {
          "base_uri": "https://localhost:8080/"
        }
      },
      "outputs": [
        {
          "output_type": "execute_result",
          "data": {
            "text/plain": [
              "5040"
            ]
          },
          "metadata": {},
          "execution_count": 49
        }
      ],
      "source": [
        "# multiply and accumulate the elements of the num_list\n",
        "functools.reduce(operator.mul, num_list)"
      ]
    },
    {
      "cell_type": "markdown",
      "id": "71f559bb",
      "metadata": {
        "id": "71f559bb"
      },
      "source": [
        "## A few last symbols for us to know.\n",
        "\n",
        "### pipes\n",
        "\n",
        "Pipe symbols, known as *bars*, can mean different things depending on the\n",
        "context. Three common uses of pipes are: `absolute value`, `euclidean norm`, and `determinant`. We will cover the first two here.\n"
      ]
    },
    {
      "cell_type": "markdown",
      "id": "cee5cdac",
      "metadata": {
        "id": "cee5cdac"
      },
      "source": [
        "#### absolute value\n",
        "\n",
        "$$\\left | x \\right |$$"
      ]
    },
    {
      "cell_type": "code",
      "execution_count": 50,
      "id": "b02efa8d",
      "metadata": {
        "id": "b02efa8d",
        "outputId": "2d8074f1-212d-4677-a352-da8df50129d1",
        "colab": {
          "base_uri": "https://localhost:8080/"
        }
      },
      "outputs": [
        {
          "output_type": "execute_result",
          "data": {
            "text/plain": [
              "8"
            ]
          },
          "metadata": {},
          "execution_count": 50
        }
      ],
      "source": [
        "## the abs() function in base Python gives absolute value\n",
        "x = -8\n",
        "abs(x)"
      ]
    },
    {
      "cell_type": "markdown",
      "id": "283cbd19",
      "metadata": {
        "id": "283cbd19"
      },
      "source": [
        "#### Euclidean norm\n",
        "\n",
        "$$\\left \\| \\mathbf{v} \\right \\|$$\n",
        "\n",
        "For a vector **v**, `‖v‖` is the [Euclidean norm](https://en.wikipedia.org/wiki/Norm_%28mathematics%29#Euclidean_norm) of **v**. It is also referred to as the \"magnitude\" or \"length\" of a vector.\n",
        "\n",
        "The **numpy** function `linalg.norm` computes various norms, depending on the value of the **ord** parameter passed in. The default value of the ord parameter in numpy.linalg.norm is 2, and because the Euclidean distance is the l2 norm, the function computes the Euclidean norm when the **ord** parameter is not specified.\n",
        "\n",
        "https://numpy.org/devdocs/reference/generated/numpy.linalg.norm.html\n",
        "\n",
        "https://www.geeksforgeeks.org/find-a-matrix-or-vector-norm-using-numpy/\n",
        "\n",
        "https://stackoverflow.com/questions/1401712/how-can-the-euclidean-distance-be-calculated-with-numpy"
      ]
    },
    {
      "cell_type": "code",
      "execution_count": 51,
      "id": "c79d7a4f",
      "metadata": {
        "id": "c79d7a4f",
        "outputId": "8594f589-5986-422d-c392-71dc0b07938f",
        "colab": {
          "base_uri": "https://localhost:8080/"
        }
      },
      "outputs": [
        {
          "output_type": "execute_result",
          "data": {
            "text/plain": [
              "5.0"
            ]
          },
          "metadata": {},
          "execution_count": 51
        }
      ],
      "source": [
        "v = [0, 4, -3]\n",
        "np.linalg.norm([0, 4, -3])"
      ]
    },
    {
      "cell_type": "markdown",
      "id": "52306957",
      "metadata": {
        "id": "52306957"
      },
      "source": [
        "### hat -- three possible uses\n",
        "\n",
        "#### In **geometry**, the `hat` symbol above a character is used to represent a [unit vector](https://en.wikipedia.org/wiki/Unit_vector). For example, here is the unit vector of **a**:\n",
        "\n",
        "$$\\hat{\\mathbf{a}}$$\n",
        "\n",
        "In Cartesian space, a unit vector is typically length 1. That means each part of the vector will be in the range of -1.0 to 1.0.\n",
        "\n",
        "Let's *normalize* a 3D vector into a unit vector. We will use the sklearn function normalize() to perform this operation:"
      ]
    },
    {
      "cell_type": "code",
      "execution_count": 52,
      "id": "1dbee033",
      "metadata": {
        "id": "1dbee033",
        "outputId": "04584c46-7f71-4b9a-c734-6bf639a76cd4",
        "colab": {
          "base_uri": "https://localhost:8080/"
        }
      },
      "outputs": [
        {
          "output_type": "execute_result",
          "data": {
            "text/plain": [
              "array([[ 0. ,  0.8, -0.6]])"
            ]
          },
          "metadata": {},
          "execution_count": 52
        }
      ],
      "source": [
        "a = [ 0, 4, -3 ]\n",
        "\n",
        "from sklearn.preprocessing import normalize\n",
        "normalize([a])"
      ]
    },
    {
      "cell_type": "markdown",
      "id": "d1570072",
      "metadata": {
        "id": "d1570072"
      },
      "source": [
        "#### In **statistics**, the `hat` symbol above a character is used to represent a matrix or set of variables that has been normalized. You will see this in many classes in the program, and in a future homework notebook.\n",
        "\n",
        "Normalizing variables means that we perform a computation on the variable such that the range of the values is between 0 and 1.\n",
        "\n",
        "The most common reason to normalize variables is when we conduct some type of multivariate analysis (i.e. we want to understand the relationship between several predictor variables and a response variable) and we want each variable to contribute equally to the analysis.\n",
        "\n",
        "When variables are measured at different scales, they often do not contribute equally to the analysis. For example, if the values of one variable range from 0 to 100,000 and the values of another variable range from 0 to 100, the variable with the larger range will be given a larger weight in the analysis.\n",
        "\n",
        "By normalizing the variables, we can be sure that each variable contributes equally to the analysis.\n",
        "\n",
        "To normalize the values to be between 0 and 1, we use the following formula:\n",
        "\n",
        "$$\\hat{x} = x_{norm} = (x_{i} – x_{min})  /  (x_{max} – x_{min})$$\n",
        "\n",
        "where:\n",
        "\n",
        "$x_{norm}$: The ith normalized value in the dataset\n",
        "\n",
        "$x_i$: The ith value in the dataset\n",
        "\n",
        "$x_{max}$: The minimum value in the dataset\n",
        "\n",
        "$x_{min}$: The maximum value in the dataset\n",
        "\n",
        "\n",
        "\n",
        "https://www.statology.org/normalize-data-in-python/"
      ]
    },
    {
      "cell_type": "markdown",
      "id": "0e787da2",
      "metadata": {
        "id": "0e787da2"
      },
      "source": [
        "Let's do a quick example each for a numpy array and a pandas dataframe."
      ]
    },
    {
      "cell_type": "code",
      "execution_count": 53,
      "id": "b15aeb78",
      "metadata": {
        "id": "b15aeb78",
        "outputId": "39cc1efb-79bf-4ec2-945e-9d043e4cb489",
        "colab": {
          "base_uri": "https://localhost:8080/"
        }
      },
      "outputs": [
        {
          "output_type": "execute_result",
          "data": {
            "text/plain": [
              "array([[0.        , 0.05172414, 0.10344828, 0.15517241, 0.17241379,\n",
              "        0.43103448, 0.5862069 , 0.74137931, 0.77586207, 0.86206897,\n",
              "        0.89655172, 0.98275862, 1.        ]])"
            ]
          },
          "metadata": {},
          "execution_count": 53
        }
      ],
      "source": [
        "#create NumPy array\n",
        "data = np.array([[13, 16, 19, 22, 23, 38, 47, 56, 58, 63, 65, 70, 71]])\n",
        "\n",
        "#normalize all values in array\n",
        "data_norm = (data - data.min())/ (data.max() - data.min())\n",
        "\n",
        "data_norm"
      ]
    },
    {
      "cell_type": "code",
      "execution_count": 54,
      "id": "69b73930",
      "metadata": {
        "id": "69b73930",
        "outputId": "ab59fb23-f016-4401-999d-02e7c35fc5ef",
        "colab": {
          "base_uri": "https://localhost:8080/",
          "height": 300
        }
      },
      "outputs": [
        {
          "output_type": "execute_result",
          "data": {
            "text/plain": [
              "     points  assists  rebounds\n",
              "0  0.764706    0.125  0.857143\n",
              "1  0.000000    0.375  0.428571\n",
              "2  0.176471    0.375  0.714286\n",
              "3  0.117647    0.625  0.142857\n",
              "4  0.411765    1.000  0.142857\n",
              "5  0.647059    0.625  0.000000\n",
              "6  0.764706    0.625  0.571429\n",
              "7  1.000000    0.000  1.000000"
            ],
            "text/html": [
              "\n",
              "  <div id=\"df-18a4019f-8609-47cb-a881-76e66a5c17ae\" class=\"colab-df-container\">\n",
              "    <div>\n",
              "<style scoped>\n",
              "    .dataframe tbody tr th:only-of-type {\n",
              "        vertical-align: middle;\n",
              "    }\n",
              "\n",
              "    .dataframe tbody tr th {\n",
              "        vertical-align: top;\n",
              "    }\n",
              "\n",
              "    .dataframe thead th {\n",
              "        text-align: right;\n",
              "    }\n",
              "</style>\n",
              "<table border=\"1\" class=\"dataframe\">\n",
              "  <thead>\n",
              "    <tr style=\"text-align: right;\">\n",
              "      <th></th>\n",
              "      <th>points</th>\n",
              "      <th>assists</th>\n",
              "      <th>rebounds</th>\n",
              "    </tr>\n",
              "  </thead>\n",
              "  <tbody>\n",
              "    <tr>\n",
              "      <th>0</th>\n",
              "      <td>0.764706</td>\n",
              "      <td>0.125</td>\n",
              "      <td>0.857143</td>\n",
              "    </tr>\n",
              "    <tr>\n",
              "      <th>1</th>\n",
              "      <td>0.000000</td>\n",
              "      <td>0.375</td>\n",
              "      <td>0.428571</td>\n",
              "    </tr>\n",
              "    <tr>\n",
              "      <th>2</th>\n",
              "      <td>0.176471</td>\n",
              "      <td>0.375</td>\n",
              "      <td>0.714286</td>\n",
              "    </tr>\n",
              "    <tr>\n",
              "      <th>3</th>\n",
              "      <td>0.117647</td>\n",
              "      <td>0.625</td>\n",
              "      <td>0.142857</td>\n",
              "    </tr>\n",
              "    <tr>\n",
              "      <th>4</th>\n",
              "      <td>0.411765</td>\n",
              "      <td>1.000</td>\n",
              "      <td>0.142857</td>\n",
              "    </tr>\n",
              "    <tr>\n",
              "      <th>5</th>\n",
              "      <td>0.647059</td>\n",
              "      <td>0.625</td>\n",
              "      <td>0.000000</td>\n",
              "    </tr>\n",
              "    <tr>\n",
              "      <th>6</th>\n",
              "      <td>0.764706</td>\n",
              "      <td>0.625</td>\n",
              "      <td>0.571429</td>\n",
              "    </tr>\n",
              "    <tr>\n",
              "      <th>7</th>\n",
              "      <td>1.000000</td>\n",
              "      <td>0.000</td>\n",
              "      <td>1.000000</td>\n",
              "    </tr>\n",
              "  </tbody>\n",
              "</table>\n",
              "</div>\n",
              "    <div class=\"colab-df-buttons\">\n",
              "\n",
              "  <div class=\"colab-df-container\">\n",
              "    <button class=\"colab-df-convert\" onclick=\"convertToInteractive('df-18a4019f-8609-47cb-a881-76e66a5c17ae')\"\n",
              "            title=\"Convert this dataframe to an interactive table.\"\n",
              "            style=\"display:none;\">\n",
              "\n",
              "  <svg xmlns=\"http://www.w3.org/2000/svg\" height=\"24px\" viewBox=\"0 -960 960 960\">\n",
              "    <path d=\"M120-120v-720h720v720H120Zm60-500h600v-160H180v160Zm220 220h160v-160H400v160Zm0 220h160v-160H400v160ZM180-400h160v-160H180v160Zm440 0h160v-160H620v160ZM180-180h160v-160H180v160Zm440 0h160v-160H620v160Z\"/>\n",
              "  </svg>\n",
              "    </button>\n",
              "\n",
              "  <style>\n",
              "    .colab-df-container {\n",
              "      display:flex;\n",
              "      gap: 12px;\n",
              "    }\n",
              "\n",
              "    .colab-df-convert {\n",
              "      background-color: #E8F0FE;\n",
              "      border: none;\n",
              "      border-radius: 50%;\n",
              "      cursor: pointer;\n",
              "      display: none;\n",
              "      fill: #1967D2;\n",
              "      height: 32px;\n",
              "      padding: 0 0 0 0;\n",
              "      width: 32px;\n",
              "    }\n",
              "\n",
              "    .colab-df-convert:hover {\n",
              "      background-color: #E2EBFA;\n",
              "      box-shadow: 0px 1px 2px rgba(60, 64, 67, 0.3), 0px 1px 3px 1px rgba(60, 64, 67, 0.15);\n",
              "      fill: #174EA6;\n",
              "    }\n",
              "\n",
              "    .colab-df-buttons div {\n",
              "      margin-bottom: 4px;\n",
              "    }\n",
              "\n",
              "    [theme=dark] .colab-df-convert {\n",
              "      background-color: #3B4455;\n",
              "      fill: #D2E3FC;\n",
              "    }\n",
              "\n",
              "    [theme=dark] .colab-df-convert:hover {\n",
              "      background-color: #434B5C;\n",
              "      box-shadow: 0px 1px 3px 1px rgba(0, 0, 0, 0.15);\n",
              "      filter: drop-shadow(0px 1px 2px rgba(0, 0, 0, 0.3));\n",
              "      fill: #FFFFFF;\n",
              "    }\n",
              "  </style>\n",
              "\n",
              "    <script>\n",
              "      const buttonEl =\n",
              "        document.querySelector('#df-18a4019f-8609-47cb-a881-76e66a5c17ae button.colab-df-convert');\n",
              "      buttonEl.style.display =\n",
              "        google.colab.kernel.accessAllowed ? 'block' : 'none';\n",
              "\n",
              "      async function convertToInteractive(key) {\n",
              "        const element = document.querySelector('#df-18a4019f-8609-47cb-a881-76e66a5c17ae');\n",
              "        const dataTable =\n",
              "          await google.colab.kernel.invokeFunction('convertToInteractive',\n",
              "                                                    [key], {});\n",
              "        if (!dataTable) return;\n",
              "\n",
              "        const docLinkHtml = 'Like what you see? Visit the ' +\n",
              "          '<a target=\"_blank\" href=https://colab.research.google.com/notebooks/data_table.ipynb>data table notebook</a>'\n",
              "          + ' to learn more about interactive tables.';\n",
              "        element.innerHTML = '';\n",
              "        dataTable['output_type'] = 'display_data';\n",
              "        await google.colab.output.renderOutput(dataTable, element);\n",
              "        const docLink = document.createElement('div');\n",
              "        docLink.innerHTML = docLinkHtml;\n",
              "        element.appendChild(docLink);\n",
              "      }\n",
              "    </script>\n",
              "  </div>\n",
              "\n",
              "\n",
              "<div id=\"df-8386dddc-ae88-44c2-947d-c8e0ec8ad5d6\">\n",
              "  <button class=\"colab-df-quickchart\" onclick=\"quickchart('df-8386dddc-ae88-44c2-947d-c8e0ec8ad5d6')\"\n",
              "            title=\"Suggest charts\"\n",
              "            style=\"display:none;\">\n",
              "\n",
              "<svg xmlns=\"http://www.w3.org/2000/svg\" height=\"24px\"viewBox=\"0 0 24 24\"\n",
              "     width=\"24px\">\n",
              "    <g>\n",
              "        <path d=\"M19 3H5c-1.1 0-2 .9-2 2v14c0 1.1.9 2 2 2h14c1.1 0 2-.9 2-2V5c0-1.1-.9-2-2-2zM9 17H7v-7h2v7zm4 0h-2V7h2v10zm4 0h-2v-4h2v4z\"/>\n",
              "    </g>\n",
              "</svg>\n",
              "  </button>\n",
              "\n",
              "<style>\n",
              "  .colab-df-quickchart {\n",
              "      --bg-color: #E8F0FE;\n",
              "      --fill-color: #1967D2;\n",
              "      --hover-bg-color: #E2EBFA;\n",
              "      --hover-fill-color: #174EA6;\n",
              "      --disabled-fill-color: #AAA;\n",
              "      --disabled-bg-color: #DDD;\n",
              "  }\n",
              "\n",
              "  [theme=dark] .colab-df-quickchart {\n",
              "      --bg-color: #3B4455;\n",
              "      --fill-color: #D2E3FC;\n",
              "      --hover-bg-color: #434B5C;\n",
              "      --hover-fill-color: #FFFFFF;\n",
              "      --disabled-bg-color: #3B4455;\n",
              "      --disabled-fill-color: #666;\n",
              "  }\n",
              "\n",
              "  .colab-df-quickchart {\n",
              "    background-color: var(--bg-color);\n",
              "    border: none;\n",
              "    border-radius: 50%;\n",
              "    cursor: pointer;\n",
              "    display: none;\n",
              "    fill: var(--fill-color);\n",
              "    height: 32px;\n",
              "    padding: 0;\n",
              "    width: 32px;\n",
              "  }\n",
              "\n",
              "  .colab-df-quickchart:hover {\n",
              "    background-color: var(--hover-bg-color);\n",
              "    box-shadow: 0 1px 2px rgba(60, 64, 67, 0.3), 0 1px 3px 1px rgba(60, 64, 67, 0.15);\n",
              "    fill: var(--button-hover-fill-color);\n",
              "  }\n",
              "\n",
              "  .colab-df-quickchart-complete:disabled,\n",
              "  .colab-df-quickchart-complete:disabled:hover {\n",
              "    background-color: var(--disabled-bg-color);\n",
              "    fill: var(--disabled-fill-color);\n",
              "    box-shadow: none;\n",
              "  }\n",
              "\n",
              "  .colab-df-spinner {\n",
              "    border: 2px solid var(--fill-color);\n",
              "    border-color: transparent;\n",
              "    border-bottom-color: var(--fill-color);\n",
              "    animation:\n",
              "      spin 1s steps(1) infinite;\n",
              "  }\n",
              "\n",
              "  @keyframes spin {\n",
              "    0% {\n",
              "      border-color: transparent;\n",
              "      border-bottom-color: var(--fill-color);\n",
              "      border-left-color: var(--fill-color);\n",
              "    }\n",
              "    20% {\n",
              "      border-color: transparent;\n",
              "      border-left-color: var(--fill-color);\n",
              "      border-top-color: var(--fill-color);\n",
              "    }\n",
              "    30% {\n",
              "      border-color: transparent;\n",
              "      border-left-color: var(--fill-color);\n",
              "      border-top-color: var(--fill-color);\n",
              "      border-right-color: var(--fill-color);\n",
              "    }\n",
              "    40% {\n",
              "      border-color: transparent;\n",
              "      border-right-color: var(--fill-color);\n",
              "      border-top-color: var(--fill-color);\n",
              "    }\n",
              "    60% {\n",
              "      border-color: transparent;\n",
              "      border-right-color: var(--fill-color);\n",
              "    }\n",
              "    80% {\n",
              "      border-color: transparent;\n",
              "      border-right-color: var(--fill-color);\n",
              "      border-bottom-color: var(--fill-color);\n",
              "    }\n",
              "    90% {\n",
              "      border-color: transparent;\n",
              "      border-bottom-color: var(--fill-color);\n",
              "    }\n",
              "  }\n",
              "</style>\n",
              "\n",
              "  <script>\n",
              "    async function quickchart(key) {\n",
              "      const quickchartButtonEl =\n",
              "        document.querySelector('#' + key + ' button');\n",
              "      quickchartButtonEl.disabled = true;  // To prevent multiple clicks.\n",
              "      quickchartButtonEl.classList.add('colab-df-spinner');\n",
              "      try {\n",
              "        const charts = await google.colab.kernel.invokeFunction(\n",
              "            'suggestCharts', [key], {});\n",
              "      } catch (error) {\n",
              "        console.error('Error during call to suggestCharts:', error);\n",
              "      }\n",
              "      quickchartButtonEl.classList.remove('colab-df-spinner');\n",
              "      quickchartButtonEl.classList.add('colab-df-quickchart-complete');\n",
              "    }\n",
              "    (() => {\n",
              "      let quickchartButtonEl =\n",
              "        document.querySelector('#df-8386dddc-ae88-44c2-947d-c8e0ec8ad5d6 button');\n",
              "      quickchartButtonEl.style.display =\n",
              "        google.colab.kernel.accessAllowed ? 'block' : 'none';\n",
              "    })();\n",
              "  </script>\n",
              "</div>\n",
              "\n",
              "  <div id=\"id_d6f6238f-f101-4354-b07f-858a146d535a\">\n",
              "    <style>\n",
              "      .colab-df-generate {\n",
              "        background-color: #E8F0FE;\n",
              "        border: none;\n",
              "        border-radius: 50%;\n",
              "        cursor: pointer;\n",
              "        display: none;\n",
              "        fill: #1967D2;\n",
              "        height: 32px;\n",
              "        padding: 0 0 0 0;\n",
              "        width: 32px;\n",
              "      }\n",
              "\n",
              "      .colab-df-generate:hover {\n",
              "        background-color: #E2EBFA;\n",
              "        box-shadow: 0px 1px 2px rgba(60, 64, 67, 0.3), 0px 1px 3px 1px rgba(60, 64, 67, 0.15);\n",
              "        fill: #174EA6;\n",
              "      }\n",
              "\n",
              "      [theme=dark] .colab-df-generate {\n",
              "        background-color: #3B4455;\n",
              "        fill: #D2E3FC;\n",
              "      }\n",
              "\n",
              "      [theme=dark] .colab-df-generate:hover {\n",
              "        background-color: #434B5C;\n",
              "        box-shadow: 0px 1px 3px 1px rgba(0, 0, 0, 0.15);\n",
              "        filter: drop-shadow(0px 1px 2px rgba(0, 0, 0, 0.3));\n",
              "        fill: #FFFFFF;\n",
              "      }\n",
              "    </style>\n",
              "    <button class=\"colab-df-generate\" onclick=\"generateWithVariable('df_norm')\"\n",
              "            title=\"Generate code using this dataframe.\"\n",
              "            style=\"display:none;\">\n",
              "\n",
              "  <svg xmlns=\"http://www.w3.org/2000/svg\" height=\"24px\"viewBox=\"0 0 24 24\"\n",
              "       width=\"24px\">\n",
              "    <path d=\"M7,19H8.4L18.45,9,17,7.55,7,17.6ZM5,21V16.75L18.45,3.32a2,2,0,0,1,2.83,0l1.4,1.43a1.91,1.91,0,0,1,.58,1.4,1.91,1.91,0,0,1-.58,1.4L9.25,21ZM18.45,9,17,7.55Zm-12,3A5.31,5.31,0,0,0,4.9,8.1,5.31,5.31,0,0,0,1,6.5,5.31,5.31,0,0,0,4.9,4.9,5.31,5.31,0,0,0,6.5,1,5.31,5.31,0,0,0,8.1,4.9,5.31,5.31,0,0,0,12,6.5,5.46,5.46,0,0,0,6.5,12Z\"/>\n",
              "  </svg>\n",
              "    </button>\n",
              "    <script>\n",
              "      (() => {\n",
              "      const buttonEl =\n",
              "        document.querySelector('#id_d6f6238f-f101-4354-b07f-858a146d535a button.colab-df-generate');\n",
              "      buttonEl.style.display =\n",
              "        google.colab.kernel.accessAllowed ? 'block' : 'none';\n",
              "\n",
              "      buttonEl.onclick = () => {\n",
              "        google.colab.notebook.generateWithVariable('df_norm');\n",
              "      }\n",
              "      })();\n",
              "    </script>\n",
              "  </div>\n",
              "\n",
              "    </div>\n",
              "  </div>\n"
            ],
            "application/vnd.google.colaboratory.intrinsic+json": {
              "type": "dataframe",
              "variable_name": "df_norm",
              "summary": "{\n  \"name\": \"df_norm\",\n  \"rows\": 8,\n  \"fields\": [\n    {\n      \"column\": \"points\",\n      \"properties\": {\n        \"dtype\": \"number\",\n        \"std\": 0.36227162680335917,\n        \"min\": 0.0,\n        \"max\": 1.0,\n        \"num_unique_values\": 7,\n        \"samples\": [\n          0.7647058823529411,\n          0.0,\n          0.6470588235294118\n        ],\n        \"semantic_type\": \"\",\n        \"description\": \"\"\n      }\n    },\n    {\n      \"column\": \"assists\",\n      \"properties\": {\n        \"dtype\": \"number\",\n        \"std\": 0.31868871959954903,\n        \"min\": 0.0,\n        \"max\": 1.0,\n        \"num_unique_values\": 5,\n        \"samples\": [\n          0.375,\n          0.0,\n          0.625\n        ],\n        \"semantic_type\": \"\",\n        \"description\": \"\"\n      }\n    },\n    {\n      \"column\": \"rebounds\",\n      \"properties\": {\n        \"dtype\": \"number\",\n        \"std\": 0.3657134885195393,\n        \"min\": 0.0,\n        \"max\": 1.0,\n        \"num_unique_values\": 7,\n        \"samples\": [\n          0.8571428571428571,\n          0.42857142857142855,\n          0.5714285714285714\n        ],\n        \"semantic_type\": \"\",\n        \"description\": \"\"\n      }\n    }\n  ]\n}"
            }
          },
          "metadata": {},
          "execution_count": 54
        }
      ],
      "source": [
        "#create DataFrame\n",
        "df = pd.DataFrame({'points': [25, 12, 15, 14, 19, 23, 25, 29],\n",
        "                   'assists': [5, 7, 7, 9, 12, 9, 9, 4],\n",
        "                   'rebounds': [11, 8, 10, 6, 6, 5, 9, 12]})\n",
        "\n",
        "#normalize values in every column\n",
        "df_norm = (df-df.min())/ (df.max() - df.min())\n",
        "\n",
        "df_norm"
      ]
    },
    {
      "cell_type": "markdown",
      "id": "222c72ec",
      "metadata": {
        "id": "222c72ec"
      },
      "source": [
        "#### Finally, the `hat` symbol above a character is used to represent the value of a function or equation.\n",
        "\n",
        "From the equation above, removing the `norm` gives us:\n",
        "\n",
        "$$\\hat{x} = (x_{i} – x_{min})  /  (x_{max} – x_{min})$$\n",
        "\n",
        "$\\hat{x}$ is simply the value of the function. You may see this notation used in homework notebooks and exams."
      ]
    },
    {
      "cell_type": "markdown",
      "id": "e7c5fd5b",
      "metadata": {
        "id": "e7c5fd5b"
      },
      "source": [
        "## Some Useful Functions"
      ]
    },
    {
      "cell_type": "markdown",
      "id": "f8b90107",
      "metadata": {
        "id": "f8b90107"
      },
      "source": [
        "### Square (or Power) -- Number raised to some power\n",
        "\n",
        "We can use two methods for returning a number raised to some power:\n",
        "\n",
        "    1. The pow() function in the `math` module\n",
        "    \n",
        "    2. A lambda function\n",
        "    \n",
        "For example, let's compute\n",
        "\n",
        "$$y = x^{2}$$\n",
        "\n",
        "We might start by writing this as a function:\n",
        "\n",
        "$$f\\left (x  \\right ) = x^{2}$$"
      ]
    },
    {
      "cell_type": "code",
      "execution_count": 55,
      "id": "ab58601c",
      "metadata": {
        "id": "ab58601c",
        "outputId": "ed2f8a31-9669-4a27-8452-43020c1a3ccf",
        "colab": {
          "base_uri": "https://localhost:8080/"
        }
      },
      "outputs": [
        {
          "output_type": "execute_result",
          "data": {
            "text/plain": [
              "100.0"
            ]
          },
          "metadata": {},
          "execution_count": 55
        }
      ],
      "source": [
        "import math\n",
        "\n",
        "def square(x):\n",
        "    return math.pow(x,2)\n",
        "square(10)"
      ]
    },
    {
      "cell_type": "markdown",
      "id": "aae617df",
      "metadata": {
        "id": "aae617df"
      },
      "source": [
        "Or just using the `pow()` function:"
      ]
    },
    {
      "cell_type": "code",
      "execution_count": 56,
      "id": "d17dc64f",
      "metadata": {
        "id": "d17dc64f",
        "outputId": "886dfc1d-a40b-4c25-bdab-b9b6ce0317fd",
        "colab": {
          "base_uri": "https://localhost:8080/"
        }
      },
      "outputs": [
        {
          "output_type": "execute_result",
          "data": {
            "text/plain": [
              "100.0"
            ]
          },
          "metadata": {},
          "execution_count": 56
        }
      ],
      "source": [
        "x = 10\n",
        "power = 2\n",
        "math.pow(x,power)"
      ]
    },
    {
      "cell_type": "code",
      "execution_count": 57,
      "id": "545a5178",
      "metadata": {
        "id": "545a5178",
        "outputId": "9fef98ec-1e05-42b3-aed9-01fa36c52bb5",
        "colab": {
          "base_uri": "https://localhost:8080/"
        }
      },
      "outputs": [
        {
          "output_type": "execute_result",
          "data": {
            "text/plain": [
              "100"
            ]
          },
          "metadata": {},
          "execution_count": 57
        }
      ],
      "source": [
        "x**power"
      ]
    },
    {
      "cell_type": "markdown",
      "id": "dad25aa3",
      "metadata": {
        "id": "dad25aa3"
      },
      "source": [
        "We can also use a `lambda` function:"
      ]
    },
    {
      "cell_type": "code",
      "execution_count": 58,
      "id": "d09479a6",
      "metadata": {
        "id": "d09479a6",
        "outputId": "6b84db08-7aa7-48f0-c8cc-59593f041b86",
        "colab": {
          "base_uri": "https://localhost:8080/"
        }
      },
      "outputs": [
        {
          "output_type": "execute_result",
          "data": {
            "text/plain": [
              "100"
            ]
          },
          "metadata": {},
          "execution_count": 58
        }
      ],
      "source": [
        "# using a lambda function\n",
        "z = lambda y,pow: y**pow\n",
        "z(x,power)"
      ]
    },
    {
      "cell_type": "markdown",
      "id": "efa618df",
      "metadata": {
        "id": "efa618df"
      },
      "source": [
        "### Square Root\n",
        "\n",
        "We have the function `sqrt()`, which is part of the `math` module.\n",
        "\n",
        "Additionally, from the above, you should be able to see that, as square root is simply raising a number to the 0.5 power, we can use the same code as above."
      ]
    },
    {
      "cell_type": "code",
      "execution_count": 59,
      "id": "9c986720",
      "metadata": {
        "id": "9c986720",
        "outputId": "41c7563a-4218-4285-95f0-d78cb3279a55",
        "colab": {
          "base_uri": "https://localhost:8080/"
        }
      },
      "outputs": [
        {
          "output_type": "execute_result",
          "data": {
            "text/plain": [
              "100.0"
            ]
          },
          "metadata": {},
          "execution_count": 59
        }
      ],
      "source": [
        "a = 25\n",
        "sqrtpower = 0.5\n",
        "math.pow(x,power)"
      ]
    },
    {
      "cell_type": "code",
      "execution_count": 60,
      "id": "c7bebd80",
      "metadata": {
        "id": "c7bebd80",
        "outputId": "c352cf2b-4b1b-4134-e689-414a6c69899f",
        "colab": {
          "base_uri": "https://localhost:8080/"
        }
      },
      "outputs": [
        {
          "output_type": "execute_result",
          "data": {
            "text/plain": [
              "5.0"
            ]
          },
          "metadata": {},
          "execution_count": 60
        }
      ],
      "source": [
        "a**sqrtpower"
      ]
    },
    {
      "cell_type": "markdown",
      "id": "7686899c",
      "metadata": {
        "id": "7686899c"
      },
      "source": [
        "#### Again, something a little more complex. How would we code this function?:\n",
        "\n",
        "$$f(x,y) = \\sqrt{x^2 + y^2}$$"
      ]
    },
    {
      "cell_type": "code",
      "execution_count": 61,
      "id": "21fa210c",
      "metadata": {
        "id": "21fa210c",
        "outputId": "00d1b38e-720c-4ef2-fd85-51bdbe81e171",
        "colab": {
          "base_uri": "https://localhost:8080/"
        }
      },
      "outputs": [
        {
          "output_type": "execute_result",
          "data": {
            "text/plain": [
              "11.180339887498949"
            ]
          },
          "metadata": {},
          "execution_count": 61
        }
      ],
      "source": [
        "def sqrtsums(x,y):\n",
        "    import math\n",
        "    sums = x**2 + y**2\n",
        "    root = math.sqrt(sums)\n",
        "    return root\n",
        "\n",
        "# return the square root of 125, which is about 11.18\n",
        "sqrtsums(5,10)"
      ]
    },
    {
      "cell_type": "markdown",
      "id": "490919c6",
      "metadata": {
        "id": "490919c6"
      },
      "source": [
        "### Piecewise functions\n",
        "\n",
        "Some functions will use different relationships depending on the input value, *x*.\n",
        "\n",
        "The following function *ƒ* chooses between two \"sub functions\" depending on the input value.\n",
        "\n",
        "\n",
        "$$f(x)=\n",
        "\\begin{cases}\n",
        "    \\frac{x^2-x}{x},& \\text{if } x\\geq 1\\\\\n",
        "    0, & \\text{otherwise}\n",
        "\\end{cases}$$\n",
        "\n",
        "This is very similar to `if` / `else` in code. The right-side conditions are often written as **\"for x < 0\"** or **\"if x = 0\"**. If the condition is true, the function to the left is used.\n",
        "\n",
        "In piecewise functions, **\"otherwise\"** and **\"elsewhere\"** are analogous to the `else` statement in code.\n"
      ]
    },
    {
      "cell_type": "code",
      "execution_count": 62,
      "id": "671d572c",
      "metadata": {
        "id": "671d572c",
        "outputId": "471d5455-90e3-41e2-c52f-f10fd7439ccc",
        "colab": {
          "base_uri": "https://localhost:8080/"
        }
      },
      "outputs": [
        {
          "output_type": "stream",
          "name": "stdout",
          "text": [
            "4.0\n",
            "0\n"
          ]
        }
      ],
      "source": [
        "def piece(x):\n",
        "    if (x >= 1):\n",
        "        return (math.pow(x, 2) - x) / x\n",
        "    else:\n",
        "        return 0\n",
        "\n",
        "print(piece(5))\n",
        "print(piece(-3))"
      ]
    },
    {
      "cell_type": "markdown",
      "id": "e07726a0",
      "metadata": {
        "id": "e07726a0"
      },
      "source": [
        "### What are your questions on math as code?"
      ]
    },
    {
      "cell_type": "markdown",
      "id": "8b96b228",
      "metadata": {
        "id": "8b96b228"
      },
      "source": [
        "The above was adapted from\n",
        "\n",
        "https://github.com/Jam3/math-as-code/blob/master/PYTHON-README.md\n",
        "\n",
        "Under the MIT license:\n",
        "\n",
        "https://github.com/Jam3/math-as-code/blob/master/LICENSE.md"
      ]
    },
    {
      "cell_type": "code",
      "execution_count": 62,
      "id": "c47dc43f",
      "metadata": {
        "id": "c47dc43f"
      },
      "outputs": [],
      "source": []
    }
  ],
  "metadata": {
    "colab": {
      "provenance": [],
      "include_colab_link": true
    },
    "kernelspec": {
      "display_name": "Python 3 (ipykernel)",
      "language": "python",
      "name": "python3"
    },
    "language_info": {
      "codemirror_mode": {
        "name": "ipython",
        "version": 3
      },
      "file_extension": ".py",
      "mimetype": "text/x-python",
      "name": "python",
      "nbconvert_exporter": "python",
      "pygments_lexer": "ipython3",
      "version": "3.9.13"
    }
  },
  "nbformat": 4,
  "nbformat_minor": 5
}
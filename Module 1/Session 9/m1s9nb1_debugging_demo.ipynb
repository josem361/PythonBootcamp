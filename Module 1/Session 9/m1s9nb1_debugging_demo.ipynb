{
  "cells": [
    {
      "cell_type": "markdown",
      "metadata": {
        "id": "view-in-github",
        "colab_type": "text"
      },
      "source": [
        "<a href=\"https://colab.research.google.com/github/josem361/PythonBootcamp/blob/main/Module%201/Session%209/m1s9nb1_debugging_demo.ipynb\" target=\"_parent\"><img src=\"https://colab.research.google.com/assets/colab-badge.svg\" alt=\"Open In Colab\"/></a>"
      ]
    },
    {
      "cell_type": "markdown",
      "metadata": {
        "id": "GgShf3ng44JI"
      },
      "source": [
        "# Using the error stack trace to debug code"
      ]
    },
    {
      "cell_type": "markdown",
      "metadata": {
        "id": "PAZbamEC44JK"
      },
      "source": [
        "In this course, the test cells often use assert statements to throw errors when the solution is not correct. The error message usually includes something about why the assertion failed, e.g. \"function output is not a dictionary\", \"variable foo is the wrong size\", \"foo does not match the instructor's solution\", etc. These errors usually point you directly towards what needs to be fixed. This type of error is not what this notebook focuses on.\n",
        "\n",
        "Of course, these assertions aren't the only case where code can fail. The Python interpreter will throw errors any time it is unable to do what is asked of it. These error messages, also known as a **traceback**, display where the error was made from the bit of code Python was unable to execute and all of the function calls that lead to that bit of code being attempted.\n",
        "\n",
        "First, let's import numpy and pandas."
      ]
    },
    {
      "cell_type": "code",
      "execution_count": 5,
      "metadata": {
        "id": "Le8k-kLZ44JK"
      },
      "outputs": [],
      "source": [
        "import numpy as np\n",
        "import pandas as pd"
      ]
    },
    {
      "cell_type": "code",
      "source": [
        "!wget https://raw.githubusercontent.com/gt-cse-6040/bootcamp/main/Module%201/Session%209/foobar.py"
      ],
      "metadata": {
        "id": "IfReI-Xo47zf",
        "outputId": "546edd1f-45db-4804-dee8-56aee08c626b",
        "colab": {
          "base_uri": "https://localhost:8080/"
        }
      },
      "execution_count": 6,
      "outputs": [
        {
          "output_type": "stream",
          "name": "stdout",
          "text": [
            "--2024-03-11 23:12:55--  https://raw.githubusercontent.com/gt-cse-6040/bootcamp/main/Module%201/Session%209/foobar.py\n",
            "Resolving raw.githubusercontent.com (raw.githubusercontent.com)... 185.199.108.133, 185.199.109.133, 185.199.110.133, ...\n",
            "Connecting to raw.githubusercontent.com (raw.githubusercontent.com)|185.199.108.133|:443... connected.\n",
            "HTTP request sent, awaiting response... 200 OK\n",
            "Length: 400 [text/plain]\n",
            "Saving to: ‘foobar.py.1’\n",
            "\n",
            "\rfoobar.py.1           0%[                    ]       0  --.-KB/s               \rfoobar.py.1         100%[===================>]     400  --.-KB/s    in 0s      \n",
            "\n",
            "2024-03-11 23:12:55 (30.4 MB/s) - ‘foobar.py.1’ saved [400/400]\n",
            "\n"
          ]
        }
      ]
    },
    {
      "cell_type": "markdown",
      "metadata": {
        "id": "Jj42FjmY44JL"
      },
      "source": [
        "# Numpy example"
      ]
    },
    {
      "cell_type": "markdown",
      "metadata": {
        "id": "yDlBfhC944JL"
      },
      "source": [
        "Here is a simple example of how the stack trace works. The printsum function is dependent on the add function."
      ]
    },
    {
      "cell_type": "code",
      "execution_count": 7,
      "metadata": {
        "id": "g_X2kI7M44JL"
      },
      "outputs": [],
      "source": [
        "def printsum(a,b):\n",
        "    # This is\n",
        "    # defined in an undeitable cell\n",
        "    print(add(a,b))\n",
        "\n",
        "def add(x,y):\n",
        "    # This is\n",
        "    # defined in an uneditable cell\n",
        "    s = x+y\n",
        "    return(s)"
      ]
    },
    {
      "cell_type": "markdown",
      "metadata": {
        "id": "6HkNuZ2944JL"
      },
      "source": [
        "The variables \"foo\" and \"bar\" are loaded from a separate file. **For the sake of the example, assume that \"foo\" and \"bar\" were defined in an exercise solution, but the functions were defined in an uneditable block**. The values of bar *should* be the values of foo squared. Let's see if we can add them with **printsum** to get foo+foo\\*\\*2 displayed as output..."
      ]
    },
    {
      "cell_type": "code",
      "execution_count": 8,
      "metadata": {
        "id": "S6C_2eQD44JM",
        "outputId": "b96a8ad8-7a06-49c5-fbb8-e8213d1bef44",
        "colab": {
          "base_uri": "https://localhost:8080/",
          "height": 298
        }
      },
      "outputs": [
        {
          "output_type": "error",
          "ename": "ValueError",
          "evalue": "operands could not be broadcast together with shapes (2,4) (4,2) ",
          "traceback": [
            "\u001b[0;31m---------------------------------------------------------------------------\u001b[0m",
            "\u001b[0;31mValueError\u001b[0m                                Traceback (most recent call last)",
            "\u001b[0;32m<ipython-input-8-8acac145d801>\u001b[0m in \u001b[0;36m<cell line: 2>\u001b[0;34m()\u001b[0m\n\u001b[1;32m      1\u001b[0m \u001b[0;32mfrom\u001b[0m \u001b[0mfoobar\u001b[0m \u001b[0;32mimport\u001b[0m \u001b[0mfoo\u001b[0m\u001b[0;34m,\u001b[0m \u001b[0mbar\u001b[0m\u001b[0;34m\u001b[0m\u001b[0;34m\u001b[0m\u001b[0m\n\u001b[0;32m----> 2\u001b[0;31m \u001b[0mprintsum\u001b[0m\u001b[0;34m(\u001b[0m\u001b[0mfoo\u001b[0m\u001b[0;34m,\u001b[0m \u001b[0mbar\u001b[0m\u001b[0;34m)\u001b[0m\u001b[0;34m\u001b[0m\u001b[0;34m\u001b[0m\u001b[0m\n\u001b[0m",
            "\u001b[0;32m<ipython-input-7-a0e73ca5b750>\u001b[0m in \u001b[0;36mprintsum\u001b[0;34m(a, b)\u001b[0m\n\u001b[1;32m      2\u001b[0m     \u001b[0;31m# This is\u001b[0m\u001b[0;34m\u001b[0m\u001b[0;34m\u001b[0m\u001b[0m\n\u001b[1;32m      3\u001b[0m     \u001b[0;31m# defined in an undeitable cell\u001b[0m\u001b[0;34m\u001b[0m\u001b[0;34m\u001b[0m\u001b[0m\n\u001b[0;32m----> 4\u001b[0;31m     \u001b[0mprint\u001b[0m\u001b[0;34m(\u001b[0m\u001b[0madd\u001b[0m\u001b[0;34m(\u001b[0m\u001b[0ma\u001b[0m\u001b[0;34m,\u001b[0m\u001b[0mb\u001b[0m\u001b[0;34m)\u001b[0m\u001b[0;34m)\u001b[0m\u001b[0;34m\u001b[0m\u001b[0;34m\u001b[0m\u001b[0m\n\u001b[0m\u001b[1;32m      5\u001b[0m \u001b[0;34m\u001b[0m\u001b[0m\n\u001b[1;32m      6\u001b[0m \u001b[0;32mdef\u001b[0m \u001b[0madd\u001b[0m\u001b[0;34m(\u001b[0m\u001b[0mx\u001b[0m\u001b[0;34m,\u001b[0m\u001b[0my\u001b[0m\u001b[0;34m)\u001b[0m\u001b[0;34m:\u001b[0m\u001b[0;34m\u001b[0m\u001b[0;34m\u001b[0m\u001b[0m\n",
            "\u001b[0;32m<ipython-input-7-a0e73ca5b750>\u001b[0m in \u001b[0;36madd\u001b[0;34m(x, y)\u001b[0m\n\u001b[1;32m      7\u001b[0m     \u001b[0;31m# This is\u001b[0m\u001b[0;34m\u001b[0m\u001b[0;34m\u001b[0m\u001b[0m\n\u001b[1;32m      8\u001b[0m     \u001b[0;31m# defined in an uneditable cell\u001b[0m\u001b[0;34m\u001b[0m\u001b[0;34m\u001b[0m\u001b[0m\n\u001b[0;32m----> 9\u001b[0;31m     \u001b[0ms\u001b[0m \u001b[0;34m=\u001b[0m \u001b[0mx\u001b[0m\u001b[0;34m+\u001b[0m\u001b[0my\u001b[0m\u001b[0;34m\u001b[0m\u001b[0;34m\u001b[0m\u001b[0m\n\u001b[0m\u001b[1;32m     10\u001b[0m     \u001b[0;32mreturn\u001b[0m\u001b[0;34m(\u001b[0m\u001b[0ms\u001b[0m\u001b[0;34m)\u001b[0m\u001b[0;34m\u001b[0m\u001b[0;34m\u001b[0m\u001b[0m\n",
            "\u001b[0;31mValueError\u001b[0m: operands could not be broadcast together with shapes (2,4) (4,2) "
          ]
        }
      ],
      "source": [
        "from foobar import foo, bar\n",
        "printsum(foo, bar)"
      ]
    },
    {
      "cell_type": "markdown",
      "metadata": {
        "id": "vr0xYS4l44JM"
      },
      "source": [
        "Oh, no! It didn't work. The bottom of the stack trace shows that x and y couldn't be broadcast together. \"I never did anything with x or y, there must be a problem with the notebook!\" might be the first thought to come to mind. However, examining the whole traceback shows something different. The problem started with the call to **printsum** and pertains to the **shape of two arrays**. The natural next step is to look at the shapes of the arrays fed into **printsum** and possibly the variables themselves."
      ]
    },
    {
      "cell_type": "code",
      "execution_count": 9,
      "metadata": {
        "id": "zNFup_2_44JN",
        "outputId": "a2667907-6e88-4130-d3ad-6544d276a93c",
        "colab": {
          "base_uri": "https://localhost:8080/"
        }
      },
      "outputs": [
        {
          "output_type": "stream",
          "name": "stdout",
          "text": [
            "foo's shape: (2, 4)\n",
            "[[1 2 3 4]\n",
            " [5 6 7 8]]\n",
            "bar's shape: (4, 2)\n",
            "[[ 1 25]\n",
            " [ 4 36]\n",
            " [ 9 49]\n",
            " [16 64]]\n"
          ]
        }
      ],
      "source": [
        "print('foo\\'s shape:', foo.shape)\n",
        "print(foo)\n",
        "print('bar\\'s shape:', bar.shape)\n",
        "print(bar)"
      ]
    },
    {
      "cell_type": "markdown",
      "metadata": {
        "id": "axHJt4Iz44JN"
      },
      "source": [
        "The bar array somehow got transposed, but the numbers are correct. The real way to resolve this issue is to find the root cause wherever bar is defined, but since that only exists hypothetically, let's correct it here by modifying the call to **printsum**."
      ]
    },
    {
      "cell_type": "code",
      "execution_count": 10,
      "metadata": {
        "id": "tZR-BQfx44JN",
        "outputId": "a6177951-763f-4e90-93f2-28790a66706e",
        "colab": {
          "base_uri": "https://localhost:8080/"
        }
      },
      "outputs": [
        {
          "output_type": "stream",
          "name": "stdout",
          "text": [
            "[[ 2  6 12 20]\n",
            " [30 42 56 72]]\n"
          ]
        }
      ],
      "source": [
        "printsum(foo, bar.T)"
      ]
    },
    {
      "cell_type": "markdown",
      "metadata": {
        "id": "0qrucLjh44JN"
      },
      "source": [
        "Some common numpy errors are broadcasting and type errors (recall everything in an array has to be of the same type). These basic errors might rear their ugly heads when calling functions that take array inputs. The bottom of the stack trace will have some lines of code that aren't even in the notebook. This is OK. Use the error message to **find where code that you wrote** may have caused the problem."
      ]
    },
    {
      "cell_type": "markdown",
      "metadata": {
        "id": "scshf36X44JN"
      },
      "source": [
        "# Pandas example"
      ]
    },
    {
      "cell_type": "markdown",
      "metadata": {
        "id": "utiXAqQW44JN"
      },
      "source": [
        "Basic pandas errors are also often thrown as a result of function calls on dataframes that aren't as expected. The stack trace is useful to figure out where the issue is in these cases as well. Some common errors are index errors, using the wrong version of loc/iloc, and problems with grouping or merging."
      ]
    },
    {
      "cell_type": "markdown",
      "metadata": {
        "id": "fJdEr9cK44JN"
      },
      "source": [
        "For this example suppose that you have to write a function that vertically stacks some data frames. The column 'baz' **may** be named 'BAZ' in **some** of the inputs, and you are required to handle this and the returned data frame must have all 'baz'."
      ]
    },
    {
      "cell_type": "code",
      "execution_count": 11,
      "metadata": {
        "id": "w7sT21yA44JN"
      },
      "outputs": [],
      "source": [
        "from foobar import df_foo, df_bar"
      ]
    },
    {
      "cell_type": "code",
      "execution_count": 12,
      "metadata": {
        "id": "wbdkv4ZG44JO",
        "outputId": "2fa9ec11-5ae1-4db7-db94-28cb975d24cd",
        "colab": {
          "base_uri": "https://localhost:8080/"
        }
      },
      "outputs": [
        {
          "output_type": "stream",
          "name": "stdout",
          "text": [
            "   baz  bop\n",
            "0  1.0   11\n",
            "1  2.0   12\n",
            "2  3.0   13\n",
            "3  4.0   14\n",
            "0  1.0   11\n",
            "1  2.0   12\n",
            "2  3.0   13\n",
            "3  4.0   14\n"
          ]
        }
      ],
      "source": [
        "def df_stack(dfs):\n",
        "    # concatenate the dataframes in dfs.\n",
        "    df_foobar = pd.concat(dfs, axis=0, sort=False).fillna(0)\n",
        "\n",
        "    # Add the columns named BAZ and baz together (remember NA were set to zero)\n",
        "    baz_se = df_foobar.BAZ + df_foobar.baz\n",
        "\n",
        "    # Drop the column with the wrong name\n",
        "    df_foobar.drop('BAZ',axis=1, inplace=True)\n",
        "\n",
        "    # Assign the baz values to the baz column\n",
        "    df_foobar['baz'] = baz_se\n",
        "\n",
        "    return(df_foobar)\n",
        "\n",
        "print(df_stack([df_foo, df_bar]))"
      ]
    },
    {
      "cell_type": "markdown",
      "metadata": {
        "id": "ej1XK40k44JO"
      },
      "source": [
        "Our funciton df_stack appears to work correctly. The test cells will often check \"edge cases\" which may reveal that the function isn't able to handle specific types of inputs that it should be able to."
      ]
    },
    {
      "cell_type": "code",
      "execution_count": 13,
      "metadata": {
        "id": "YskV9m4744JO",
        "outputId": "9cc8a159-9772-4c71-d1b2-a22e96b3e266",
        "colab": {
          "base_uri": "https://localhost:8080/",
          "height": 371
        }
      },
      "outputs": [
        {
          "output_type": "error",
          "ename": "AttributeError",
          "evalue": "'DataFrame' object has no attribute 'BAZ'",
          "traceback": [
            "\u001b[0;31m---------------------------------------------------------------------------\u001b[0m",
            "\u001b[0;31mAttributeError\u001b[0m                            Traceback (most recent call last)",
            "\u001b[0;32m<ipython-input-13-c231723a095d>\u001b[0m in \u001b[0;36m<cell line: 5>\u001b[0;34m()\u001b[0m\n\u001b[1;32m      3\u001b[0m \u001b[0;31m#\u001b[0m\u001b[0;34m\u001b[0m\u001b[0;34m\u001b[0m\u001b[0m\n\u001b[1;32m      4\u001b[0m \u001b[0;31m#\u001b[0m\u001b[0;34m\u001b[0m\u001b[0;34m\u001b[0m\u001b[0m\n\u001b[0;32m----> 5\u001b[0;31m \u001b[0mdf\u001b[0m \u001b[0;34m=\u001b[0m \u001b[0mdf_stack\u001b[0m\u001b[0;34m(\u001b[0m\u001b[0;34m[\u001b[0m\u001b[0mdf_foo\u001b[0m\u001b[0;34m,\u001b[0m \u001b[0mdf_test\u001b[0m\u001b[0;34m]\u001b[0m\u001b[0;34m)\u001b[0m\u001b[0;34m\u001b[0m\u001b[0;34m\u001b[0m\u001b[0m\n\u001b[0m\u001b[1;32m      6\u001b[0m \u001b[0;31m# some more code\u001b[0m\u001b[0;34m\u001b[0m\u001b[0;34m\u001b[0m\u001b[0m\n\u001b[1;32m      7\u001b[0m \u001b[0;31m#\u001b[0m\u001b[0;34m\u001b[0m\u001b[0;34m\u001b[0m\u001b[0m\n",
            "\u001b[0;32m<ipython-input-12-38135e5b87cb>\u001b[0m in \u001b[0;36mdf_stack\u001b[0;34m(dfs)\u001b[0m\n\u001b[1;32m      4\u001b[0m \u001b[0;34m\u001b[0m\u001b[0m\n\u001b[1;32m      5\u001b[0m     \u001b[0;31m# Add the columns named BAZ and baz together (remember NA were set to zero)\u001b[0m\u001b[0;34m\u001b[0m\u001b[0;34m\u001b[0m\u001b[0m\n\u001b[0;32m----> 6\u001b[0;31m     \u001b[0mbaz_se\u001b[0m \u001b[0;34m=\u001b[0m \u001b[0mdf_foobar\u001b[0m\u001b[0;34m.\u001b[0m\u001b[0mBAZ\u001b[0m \u001b[0;34m+\u001b[0m \u001b[0mdf_foobar\u001b[0m\u001b[0;34m.\u001b[0m\u001b[0mbaz\u001b[0m\u001b[0;34m\u001b[0m\u001b[0;34m\u001b[0m\u001b[0m\n\u001b[0m\u001b[1;32m      7\u001b[0m \u001b[0;34m\u001b[0m\u001b[0m\n\u001b[1;32m      8\u001b[0m     \u001b[0;31m# Drop the column with the wrong name\u001b[0m\u001b[0;34m\u001b[0m\u001b[0;34m\u001b[0m\u001b[0m\n",
            "\u001b[0;32m/usr/local/lib/python3.10/dist-packages/pandas/core/generic.py\u001b[0m in \u001b[0;36m__getattr__\u001b[0;34m(self, name)\u001b[0m\n\u001b[1;32m   5900\u001b[0m         ):\n\u001b[1;32m   5901\u001b[0m             \u001b[0;32mreturn\u001b[0m \u001b[0mself\u001b[0m\u001b[0;34m[\u001b[0m\u001b[0mname\u001b[0m\u001b[0;34m]\u001b[0m\u001b[0;34m\u001b[0m\u001b[0;34m\u001b[0m\u001b[0m\n\u001b[0;32m-> 5902\u001b[0;31m         \u001b[0;32mreturn\u001b[0m \u001b[0mobject\u001b[0m\u001b[0;34m.\u001b[0m\u001b[0m__getattribute__\u001b[0m\u001b[0;34m(\u001b[0m\u001b[0mself\u001b[0m\u001b[0;34m,\u001b[0m \u001b[0mname\u001b[0m\u001b[0;34m)\u001b[0m\u001b[0;34m\u001b[0m\u001b[0;34m\u001b[0m\u001b[0m\n\u001b[0m\u001b[1;32m   5903\u001b[0m \u001b[0;34m\u001b[0m\u001b[0m\n\u001b[1;32m   5904\u001b[0m     \u001b[0;32mdef\u001b[0m \u001b[0m__setattr__\u001b[0m\u001b[0;34m(\u001b[0m\u001b[0mself\u001b[0m\u001b[0;34m,\u001b[0m \u001b[0mname\u001b[0m\u001b[0;34m:\u001b[0m \u001b[0mstr\u001b[0m\u001b[0;34m,\u001b[0m \u001b[0mvalue\u001b[0m\u001b[0;34m)\u001b[0m \u001b[0;34m->\u001b[0m \u001b[0;32mNone\u001b[0m\u001b[0;34m:\u001b[0m\u001b[0;34m\u001b[0m\u001b[0;34m\u001b[0m\u001b[0m\n",
            "\u001b[0;31mAttributeError\u001b[0m: 'DataFrame' object has no attribute 'BAZ'"
          ]
        }
      ],
      "source": [
        "from foobar import df_test\n",
        "# some other code\n",
        "#\n",
        "#\n",
        "df = df_stack([df_foo, df_test])\n",
        "# some more code\n",
        "#\n",
        "#"
      ]
    },
    {
      "cell_type": "markdown",
      "metadata": {
        "id": "Oek8UNDu44JO"
      },
      "source": [
        "The function didn't work this time, even though the demo worked. Examining the traceback reveals that the call to **df_stack** was the origin of the error. This call led to the \"baz_se = ...\" line being attempted. That line resulted to a call to the pandas library that was unable to be executed. There appears to be an issue with the column names in **df_stack**. We can investigate further by looking at the column headers for each data frame in the list dfs.\n",
        "\n",
        "Note: the debugging is done in a separate cell for demonstration purposes, but on an assignment, you would want to add this code to your original function definition.\n",
        "\n",
        "Additional note: because the function call threw an error, the variable df never gets assigned. If an attempt to use it is made in subsequent cells, more errors will result. See below"
      ]
    },
    {
      "cell_type": "code",
      "execution_count": 14,
      "metadata": {
        "id": "HxyU0Ov644JO",
        "outputId": "d324e76f-6207-4444-d7d5-0b3412547bc6",
        "colab": {
          "base_uri": "https://localhost:8080/",
          "height": 146
        }
      },
      "outputs": [
        {
          "output_type": "error",
          "ename": "NameError",
          "evalue": "name 'df' is not defined",
          "traceback": [
            "\u001b[0;31m---------------------------------------------------------------------------\u001b[0m",
            "\u001b[0;31mNameError\u001b[0m                                 Traceback (most recent call last)",
            "\u001b[0;32m<ipython-input-14-2a851eda2e88>\u001b[0m in \u001b[0;36m<cell line: 1>\u001b[0;34m()\u001b[0m\n\u001b[0;32m----> 1\u001b[0;31m \u001b[0mprint\u001b[0m\u001b[0;34m(\u001b[0m\u001b[0mdf\u001b[0m\u001b[0;34m)\u001b[0m\u001b[0;34m\u001b[0m\u001b[0;34m\u001b[0m\u001b[0m\n\u001b[0m",
            "\u001b[0;31mNameError\u001b[0m: name 'df' is not defined"
          ]
        }
      ],
      "source": [
        "print(df)"
      ]
    },
    {
      "cell_type": "markdown",
      "metadata": {
        "id": "D8kul8a144JO"
      },
      "source": [
        "This can be confusing, especially if the assignment is made in an uneditable cell or the name df is used in multiple namespaces. The find function in your browser (ctrl+F) can be helpful in figuring out where df should have been assigned but wasn't. Now on to the debugging. Remember we have an issue with the columns of the dataframes in dfs, so let's print them."
      ]
    },
    {
      "cell_type": "code",
      "execution_count": 15,
      "metadata": {
        "id": "iNee6wBE44JO",
        "outputId": "8e63a2dd-200c-4d6a-d357-1badd308fac9",
        "colab": {
          "base_uri": "https://localhost:8080/"
        }
      },
      "outputs": [
        {
          "output_type": "stream",
          "name": "stdout",
          "text": [
            "Index(['baz', 'bop'], dtype='object')\n",
            "Index(['BAZ', 'bop'], dtype='object')\n",
            "   baz  bop\n",
            "0  1.0   11\n",
            "1  2.0   12\n",
            "2  3.0   13\n",
            "3  4.0   14\n",
            "0  1.0   11\n",
            "1  2.0   12\n",
            "2  3.0   13\n",
            "3  4.0   14\n"
          ]
        }
      ],
      "source": [
        "def df_stack(dfs):\n",
        "    # begin debug code\n",
        "    for df in dfs:\n",
        "        print(df.columns)\n",
        "    # end debug code\n",
        "    df_foobar = pd.concat(dfs, axis=0).fillna(0)\n",
        "    baz_se = df_foobar.BAZ + df_foobar.baz\n",
        "    df_foobar.drop('BAZ',axis=1, inplace=True)\n",
        "    df_foobar['baz'] = baz_se\n",
        "    return(df_foobar)\n",
        "\n",
        "print(df_stack([df_foo, df_bar]))"
      ]
    },
    {
      "cell_type": "markdown",
      "metadata": {
        "id": "eNpO1meH44JO"
      },
      "source": [
        "The demo still works with the print statement. Let's try the test again."
      ]
    },
    {
      "cell_type": "code",
      "execution_count": 16,
      "metadata": {
        "id": "PZKamiG244JO",
        "outputId": "d3ef5287-c3c5-4be8-803b-286c3960c151",
        "colab": {
          "base_uri": "https://localhost:8080/",
          "height": 335
        }
      },
      "outputs": [
        {
          "output_type": "stream",
          "name": "stdout",
          "text": [
            "Index(['baz', 'bop'], dtype='object')\n",
            "Index(['baz', 'bop'], dtype='object')\n"
          ]
        },
        {
          "output_type": "error",
          "ename": "AttributeError",
          "evalue": "'DataFrame' object has no attribute 'BAZ'",
          "traceback": [
            "\u001b[0;31m---------------------------------------------------------------------------\u001b[0m",
            "\u001b[0;31mAttributeError\u001b[0m                            Traceback (most recent call last)",
            "\u001b[0;32m<ipython-input-16-241e5153d046>\u001b[0m in \u001b[0;36m<cell line: 1>\u001b[0;34m()\u001b[0m\n\u001b[0;32m----> 1\u001b[0;31m \u001b[0mdf\u001b[0m \u001b[0;34m=\u001b[0m \u001b[0mdf_stack\u001b[0m\u001b[0;34m(\u001b[0m\u001b[0;34m[\u001b[0m\u001b[0mdf_foo\u001b[0m\u001b[0;34m,\u001b[0m \u001b[0mdf_test\u001b[0m\u001b[0;34m]\u001b[0m\u001b[0;34m)\u001b[0m\u001b[0;34m\u001b[0m\u001b[0;34m\u001b[0m\u001b[0m\n\u001b[0m",
            "\u001b[0;32m<ipython-input-15-12ca1fced58d>\u001b[0m in \u001b[0;36mdf_stack\u001b[0;34m(dfs)\u001b[0m\n\u001b[1;32m      5\u001b[0m     \u001b[0;31m# end debug code\u001b[0m\u001b[0;34m\u001b[0m\u001b[0;34m\u001b[0m\u001b[0m\n\u001b[1;32m      6\u001b[0m     \u001b[0mdf_foobar\u001b[0m \u001b[0;34m=\u001b[0m \u001b[0mpd\u001b[0m\u001b[0;34m.\u001b[0m\u001b[0mconcat\u001b[0m\u001b[0;34m(\u001b[0m\u001b[0mdfs\u001b[0m\u001b[0;34m,\u001b[0m \u001b[0maxis\u001b[0m\u001b[0;34m=\u001b[0m\u001b[0;36m0\u001b[0m\u001b[0;34m)\u001b[0m\u001b[0;34m.\u001b[0m\u001b[0mfillna\u001b[0m\u001b[0;34m(\u001b[0m\u001b[0;36m0\u001b[0m\u001b[0;34m)\u001b[0m\u001b[0;34m\u001b[0m\u001b[0;34m\u001b[0m\u001b[0m\n\u001b[0;32m----> 7\u001b[0;31m     \u001b[0mbaz_se\u001b[0m \u001b[0;34m=\u001b[0m \u001b[0mdf_foobar\u001b[0m\u001b[0;34m.\u001b[0m\u001b[0mBAZ\u001b[0m \u001b[0;34m+\u001b[0m \u001b[0mdf_foobar\u001b[0m\u001b[0;34m.\u001b[0m\u001b[0mbaz\u001b[0m\u001b[0;34m\u001b[0m\u001b[0;34m\u001b[0m\u001b[0m\n\u001b[0m\u001b[1;32m      8\u001b[0m     \u001b[0mdf_foobar\u001b[0m\u001b[0;34m.\u001b[0m\u001b[0mdrop\u001b[0m\u001b[0;34m(\u001b[0m\u001b[0;34m'BAZ'\u001b[0m\u001b[0;34m,\u001b[0m\u001b[0maxis\u001b[0m\u001b[0;34m=\u001b[0m\u001b[0;36m1\u001b[0m\u001b[0;34m,\u001b[0m \u001b[0minplace\u001b[0m\u001b[0;34m=\u001b[0m\u001b[0;32mTrue\u001b[0m\u001b[0;34m)\u001b[0m\u001b[0;34m\u001b[0m\u001b[0;34m\u001b[0m\u001b[0m\n\u001b[1;32m      9\u001b[0m     \u001b[0mdf_foobar\u001b[0m\u001b[0;34m[\u001b[0m\u001b[0;34m'baz'\u001b[0m\u001b[0;34m]\u001b[0m \u001b[0;34m=\u001b[0m \u001b[0mbaz_se\u001b[0m\u001b[0;34m\u001b[0m\u001b[0;34m\u001b[0m\u001b[0m\n",
            "\u001b[0;32m/usr/local/lib/python3.10/dist-packages/pandas/core/generic.py\u001b[0m in \u001b[0;36m__getattr__\u001b[0;34m(self, name)\u001b[0m\n\u001b[1;32m   5900\u001b[0m         ):\n\u001b[1;32m   5901\u001b[0m             \u001b[0;32mreturn\u001b[0m \u001b[0mself\u001b[0m\u001b[0;34m[\u001b[0m\u001b[0mname\u001b[0m\u001b[0;34m]\u001b[0m\u001b[0;34m\u001b[0m\u001b[0;34m\u001b[0m\u001b[0m\n\u001b[0;32m-> 5902\u001b[0;31m         \u001b[0;32mreturn\u001b[0m \u001b[0mobject\u001b[0m\u001b[0;34m.\u001b[0m\u001b[0m__getattribute__\u001b[0m\u001b[0;34m(\u001b[0m\u001b[0mself\u001b[0m\u001b[0;34m,\u001b[0m \u001b[0mname\u001b[0m\u001b[0;34m)\u001b[0m\u001b[0;34m\u001b[0m\u001b[0;34m\u001b[0m\u001b[0m\n\u001b[0m\u001b[1;32m   5903\u001b[0m \u001b[0;34m\u001b[0m\u001b[0m\n\u001b[1;32m   5904\u001b[0m     \u001b[0;32mdef\u001b[0m \u001b[0m__setattr__\u001b[0m\u001b[0;34m(\u001b[0m\u001b[0mself\u001b[0m\u001b[0;34m,\u001b[0m \u001b[0mname\u001b[0m\u001b[0;34m:\u001b[0m \u001b[0mstr\u001b[0m\u001b[0;34m,\u001b[0m \u001b[0mvalue\u001b[0m\u001b[0;34m)\u001b[0m \u001b[0;34m->\u001b[0m \u001b[0;32mNone\u001b[0m\u001b[0;34m:\u001b[0m\u001b[0;34m\u001b[0m\u001b[0;34m\u001b[0m\u001b[0m\n",
            "\u001b[0;31mAttributeError\u001b[0m: 'DataFrame' object has no attribute 'BAZ'"
          ]
        }
      ],
      "source": [
        "df = df_stack([df_foo, df_test])"
      ]
    },
    {
      "cell_type": "markdown",
      "metadata": {
        "id": "07CkmamH44JO"
      },
      "source": [
        "We got the same error traceback, but this time we are armed with more information. The test list didn't have any columns named \"BAZ\"! By directly referencing the column, we require it to exist. Another logical conclusion is if **none** of the baz columns in dfs are named \"baz\" our code will also throw an error.\n",
        "\n",
        "Somehow we need to change the names of the columns named \"BAZ\" to \"baz\" **without requiring that either name exists** (only one or the other), and this should probably be done before the concatenation."
      ]
    },
    {
      "cell_type": "code",
      "execution_count": 17,
      "metadata": {
        "id": "n3_8CaOd44JO",
        "outputId": "71987cab-71fe-498b-9e95-fc9da4bfd564",
        "colab": {
          "base_uri": "https://localhost:8080/"
        }
      },
      "outputs": [
        {
          "output_type": "stream",
          "name": "stdout",
          "text": [
            "Index(['baz', 'bop'], dtype='object')\n",
            "Index(['BAZ', 'bop'], dtype='object')\n",
            "   baz  bop\n",
            "0    1   11\n",
            "1    2   12\n",
            "2    3   13\n",
            "3    4   14\n",
            "0    1   11\n",
            "1    2   12\n",
            "2    3   13\n",
            "3    4   14\n"
          ]
        }
      ],
      "source": [
        "def df_stack(dfs):\n",
        "    # begin debug code\n",
        "    for df in dfs:\n",
        "        print(df.columns)\n",
        "    # end debug code\n",
        "\n",
        "#     Old implementation\n",
        "\n",
        "#     df_foobar = pd.concat(dfs, axis=0).fillna(0)\n",
        "#     baz_se = df_foobar.BAZ + df_foobar.baz\n",
        "#     df_foobar.drop('BAZ',axis=1, inplace=True)\n",
        "#     df_foobar[['baz']] = baz_se\n",
        "    dfs_new = [df.rename(columns = {'BAZ' : 'baz'})for df in dfs]\n",
        "    df_foobar = pd.concat(dfs_new)\n",
        "    return(df_foobar)\n",
        "\n",
        "print(df_stack([df_foo, df_bar]))"
      ]
    },
    {
      "cell_type": "code",
      "execution_count": 18,
      "metadata": {
        "id": "v3J_X0OU44JP",
        "outputId": "2dabfffd-a540-41ba-8aa6-20dda742d297",
        "colab": {
          "base_uri": "https://localhost:8080/"
        }
      },
      "outputs": [
        {
          "output_type": "stream",
          "name": "stdout",
          "text": [
            "Index(['baz', 'bop'], dtype='object')\n",
            "Index(['baz', 'bop'], dtype='object')\n"
          ]
        }
      ],
      "source": [
        "df = df_stack([df_foo, df_test])"
      ]
    },
    {
      "cell_type": "code",
      "execution_count": 19,
      "metadata": {
        "id": "peyrrLpQ44JP",
        "outputId": "2c0f1a75-3fc7-4544-9402-d616518a2df2",
        "colab": {
          "base_uri": "https://localhost:8080/"
        }
      },
      "outputs": [
        {
          "output_type": "stream",
          "name": "stdout",
          "text": [
            "   baz  bop\n",
            "0    1   11\n",
            "1    2   12\n",
            "2    3   13\n",
            "3    4   14\n",
            "0    1   11\n",
            "1    2   12\n",
            "2    3   13\n",
            "3    4   14\n"
          ]
        }
      ],
      "source": [
        "print(df)"
      ]
    },
    {
      "cell_type": "markdown",
      "metadata": {
        "id": "YNV95UVt44JP"
      },
      "source": [
        "The solution above uses the pd.rename function to handle the naming issue. This function checks the column names for any of the keys in the dictionary. If the key is found, the column name is changed in the output, but the key **is not required to be used**."
      ]
    },
    {
      "cell_type": "markdown",
      "metadata": {
        "id": "1t9WDqcX44JP"
      },
      "source": [
        "# One frustrating type of assertion error"
      ]
    },
    {
      "cell_type": "markdown",
      "metadata": {
        "id": "jYp8yRTq44JP"
      },
      "source": [
        "I know we said assertion errors weren't going to be the focus of this notebook, but one case is worth looking into. Suppose a function defined in an exercise solution returns a large collection of outputs called stu_arr, and the instructor's solution called ins_arr."
      ]
    },
    {
      "cell_type": "code",
      "execution_count": 20,
      "metadata": {
        "id": "xvIRgXUD44JP",
        "outputId": "2c659719-da9f-485c-ff1a-7995babb0bc0",
        "colab": {
          "base_uri": "https://localhost:8080/",
          "height": 183
        }
      },
      "outputs": [
        {
          "output_type": "error",
          "ename": "AssertionError",
          "evalue": "Student list did not match instructor list",
          "traceback": [
            "\u001b[0;31m---------------------------------------------------------------------------\u001b[0m",
            "\u001b[0;31mAssertionError\u001b[0m                            Traceback (most recent call last)",
            "\u001b[0;32m<ipython-input-20-4c0c3abd08ff>\u001b[0m in \u001b[0;36m<cell line: 3>\u001b[0;34m()\u001b[0m\n\u001b[1;32m      1\u001b[0m \u001b[0;32mfrom\u001b[0m \u001b[0mfoobar\u001b[0m \u001b[0;32mimport\u001b[0m \u001b[0mstu_arr\u001b[0m\u001b[0;34m,\u001b[0m \u001b[0mins_arr\u001b[0m\u001b[0;34m\u001b[0m\u001b[0;34m\u001b[0m\u001b[0m\n\u001b[1;32m      2\u001b[0m \u001b[0;32massert\u001b[0m \u001b[0mstu_arr\u001b[0m\u001b[0;34m.\u001b[0m\u001b[0mshape\u001b[0m \u001b[0;34m==\u001b[0m \u001b[0mins_arr\u001b[0m\u001b[0;34m.\u001b[0m\u001b[0mshape\u001b[0m\u001b[0;34m,\u001b[0m \u001b[0;34m\"Student array has incorrect shape\"\u001b[0m\u001b[0;34m\u001b[0m\u001b[0;34m\u001b[0m\u001b[0m\n\u001b[0;32m----> 3\u001b[0;31m \u001b[0;32massert\u001b[0m \u001b[0;34m(\u001b[0m\u001b[0mstu_arr\u001b[0m \u001b[0;34m==\u001b[0m \u001b[0mins_arr\u001b[0m\u001b[0;34m)\u001b[0m\u001b[0;34m.\u001b[0m\u001b[0mall\u001b[0m\u001b[0;34m(\u001b[0m\u001b[0;34m)\u001b[0m\u001b[0;34m,\u001b[0m \u001b[0;34m\"Student list did not match instructor list\"\u001b[0m\u001b[0;34m\u001b[0m\u001b[0;34m\u001b[0m\u001b[0m\n\u001b[0m",
            "\u001b[0;31mAssertionError\u001b[0m: Student list did not match instructor list"
          ]
        }
      ],
      "source": [
        "from foobar import stu_arr, ins_arr\n",
        "assert stu_arr.shape == ins_arr.shape, \"Student array has incorrect shape\"\n",
        "assert (stu_arr == ins_arr).all(), \"Student list did not match instructor list\""
      ]
    },
    {
      "cell_type": "markdown",
      "metadata": {
        "id": "FgvOgJcW44JP"
      },
      "source": [
        "Ok, somewhere our function runs but doesn't compute the correct value. The next step is to find out where. Let's try printing the right answer, the generated answer, and a conditional array that checks for matches..."
      ]
    },
    {
      "cell_type": "code",
      "execution_count": 21,
      "metadata": {
        "id": "7okwwzVo44JP",
        "outputId": "e5fde29e-3b6f-4d40-96de-0193e38aabb0",
        "colab": {
          "base_uri": "https://localhost:8080/"
        }
      },
      "outputs": [
        {
          "output_type": "stream",
          "name": "stdout",
          "text": [
            "[1. 1. 1. ... 1. 1. 1.]\n",
            "[1. 1. 1. ... 1. 1. 1.]\n",
            "[ True  True  True ...  True  True  True]\n"
          ]
        }
      ],
      "source": [
        "print(stu_arr)\n",
        "print(ins_arr)\n",
        "print(ins_arr == stu_arr)"
      ]
    },
    {
      "cell_type": "markdown",
      "metadata": {
        "id": "-ka0GKLR44JP"
      },
      "source": [
        "That didn't do much good. Is there a problem in the test, because it looks like everything matches? The issue with this strategy is the output is truncated because the arrays are huge. We need to figure out where our code outputs the wrong answer so that we can investigate how it gets there."
      ]
    },
    {
      "cell_type": "code",
      "execution_count": 22,
      "metadata": {
        "id": "tJnEbs-744JP",
        "outputId": "f26df2da-1726-463e-ef90-74c2e4eeddec",
        "colab": {
          "base_uri": "https://localhost:8080/"
        }
      },
      "outputs": [
        {
          "output_type": "stream",
          "name": "stdout",
          "text": [
            "[25, 723, 1995, 5000]\n",
            "[1. 1. 1. 1.]\n",
            "[0. 0. 0. 0.]\n"
          ]
        }
      ],
      "source": [
        "wrong = [i for i, c in enumerate(ins_arr != stu_arr) if c]\n",
        "print(wrong)\n",
        "print(stu_arr[wrong])\n",
        "print(ins_arr[wrong])"
      ]
    },
    {
      "cell_type": "markdown",
      "metadata": {
        "id": "0eeMBQlN44JP"
      },
      "source": [
        "The list comprehension stored in wrong is the index of all of the mismatches. With this information, you can investigate the few edge cases that are causing the assertion failure. This technique will often quickly point you towards what isn't being handled correctly in your function. Since these arrays are just dummy examples, we can't go much further. However, this is a good starting point in your debugging process if you're having this type of assertion failure."
      ]
    },
    {
      "cell_type": "markdown",
      "metadata": {
        "id": "AeVwZsi144JT"
      },
      "source": [
        "# Key Takeaways"
      ]
    },
    {
      "cell_type": "markdown",
      "metadata": {
        "id": "AhVmfJkK44JT"
      },
      "source": [
        " * If there are issues with failing hidden test cells, look at the **Grading report**. (Details -> View Grading Report)\n",
        "     * This is where the error traceback you need to look at lives.\n",
        "     * Sometimes this requires finding errors above the test cell where variable assignments fail.\n",
        " * Look at the whole error traceback\n",
        " * **Look at the whole error traceback**\n",
        " * Use the traceback to get clues as to why your code is failing.\n",
        "     * Which function call resulted in the error? Focus on functions where you actually wrote some code.\n",
        "     * What type of error is it?\n",
        "     * What attribute is causing the error (shape, column name, index out of bounds, variable name, etc)?\n",
        " * Use print or assert to investigate the source of the error. It is rarely useful to print out entire data frames or arrays, because those usually get truncated.\n",
        " * If there is an assertion error, look for the mismatches. They can usually point you in the right direction."
      ]
    },
    {
      "cell_type": "markdown",
      "metadata": {
        "id": "5uvt2qv444JT"
      },
      "source": [
        "This notebook isn't inended to be a complete guide to debugging. Hopefully these strategies are helpful in completing the notebooks in this course."
      ]
    }
  ],
  "metadata": {
    "kernelspec": {
      "display_name": "Python 3 (ipykernel)",
      "language": "python",
      "name": "python3"
    },
    "language_info": {
      "codemirror_mode": {
        "name": "ipython",
        "version": 3
      },
      "file_extension": ".py",
      "mimetype": "text/x-python",
      "name": "python",
      "nbconvert_exporter": "python",
      "pygments_lexer": "ipython3",
      "version": "3.9.5"
    },
    "colab": {
      "provenance": [],
      "include_colab_link": true
    }
  },
  "nbformat": 4,
  "nbformat_minor": 0
}
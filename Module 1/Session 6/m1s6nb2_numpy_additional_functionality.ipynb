{
  "cells": [
    {
      "cell_type": "markdown",
      "metadata": {
        "id": "view-in-github",
        "colab_type": "text"
      },
      "source": [
        "<a href=\"https://colab.research.google.com/github/josem361/PythonBootcamp/blob/main/Module%201/Session%206/m1s6nb2_numpy_additional_functionality.ipynb\" target=\"_parent\"><img src=\"https://colab.research.google.com/assets/colab-badge.svg\" alt=\"Open In Colab\"/></a>"
      ]
    },
    {
      "cell_type": "markdown",
      "metadata": {
        "nbgrader": {
          "grade": false,
          "locked": true,
          "solution": false
        },
        "id": "q21rJiPs8eyJ"
      },
      "source": [
        "# Numpy Random Numbers, Aggregations/Reductions, and Universal Functions\n",
        "\n",
        "This notebook is a quick overview of some additional functionality in Numpy. It is intended to supplement the videos and the other parts of this assignment."
      ]
    },
    {
      "cell_type": "code",
      "execution_count": 1,
      "metadata": {
        "nbgrader": {
          "grade": false,
          "locked": false,
          "solution": false
        },
        "id": "t751AtIm8eyO",
        "outputId": "2e4d7e8b-27c3-4448-b44d-f2df1fd302e5",
        "colab": {
          "base_uri": "https://localhost:8080/"
        }
      },
      "outputs": [
        {
          "output_type": "stream",
          "name": "stdout",
          "text": [
            "3.10.12 (main, Nov 20 2023, 15:14:05) [GCC 11.4.0]\n",
            "1.25.2\n"
          ]
        }
      ],
      "source": [
        "import sys\n",
        "print(sys.version)\n",
        "\n",
        "import numpy as np\n",
        "print(np.__version__)"
      ]
    },
    {
      "cell_type": "markdown",
      "metadata": {
        "nbgrader": {
          "grade": false,
          "locked": true,
          "solution": false
        },
        "id": "Wnx6dVTQ8eyQ"
      },
      "source": [
        "# Random numbers #"
      ]
    },
    {
      "cell_type": "markdown",
      "metadata": {
        "nbgrader": {
          "grade": false,
          "locked": true,
          "solution": false
        },
        "id": "NIJDPDZD8eyR"
      },
      "source": [
        "Numpy has a rich collection of (pseudo) random number generators. See the documentation for [numpy.random](https://numpy.org/doc/stable/reference/random/index.html) for more details."
      ]
    },
    {
      "cell_type": "code",
      "execution_count": 2,
      "metadata": {
        "nbgrader": {
          "grade": false,
          "locked": false,
          "solution": false
        },
        "id": "NQpfqogQ8eyR",
        "outputId": "a3d3b8b8-df16-40c4-f577-521a99765714",
        "colab": {
          "base_uri": "https://localhost:8080/"
        }
      },
      "outputs": [
        {
          "output_type": "stream",
          "name": "stdout",
          "text": [
            "[[ 4  2  4]\n",
            " [-4  3  6]\n",
            " [ 9 -2  4]\n",
            " [-5  2  1]]\n"
          ]
        }
      ],
      "source": [
        "from numpy.random import default_rng\n",
        "rng = default_rng()\n",
        "\n",
        "A = rng.integers(-10, 10, size=(4, 3)) # return random integers from -10 (inclusive) to 10 (exclusive)\n",
        "print(A)"
      ]
    },
    {
      "cell_type": "code",
      "execution_count": 3,
      "metadata": {
        "nbgrader": {
          "grade": false,
          "locked": false,
          "solution": false
        },
        "id": "iL-aR51_8eyR",
        "outputId": "477a5798-8e22-4d3a-be46-88d8302c50b8",
        "colab": {
          "base_uri": "https://localhost:8080/"
        }
      },
      "outputs": [
        {
          "output_type": "execute_result",
          "data": {
            "text/plain": [
              "array([1.  , 1.25, 3.75])"
            ]
          },
          "metadata": {},
          "execution_count": 3
        }
      ],
      "source": [
        "np.mean(A.T, axis=1)"
      ]
    },
    {
      "cell_type": "markdown",
      "metadata": {
        "nbgrader": {
          "grade": false,
          "locked": false,
          "solution": false
        },
        "id": "JtEx4I1E8eyS"
      },
      "source": [
        "# Aggregations or reductions #"
      ]
    },
    {
      "cell_type": "markdown",
      "metadata": {
        "nbgrader": {
          "grade": false,
          "locked": false,
          "solution": false
        },
        "id": "t-womw0a8eyS"
      },
      "source": [
        "Suppose you want to reduce the values of a Numpy array to a smaller number of values. Numpy provides a number of such functions that _aggregate_ values. Examples of aggregations include sums, min/max calculations, and averaging, among others."
      ]
    },
    {
      "cell_type": "code",
      "execution_count": 4,
      "metadata": {
        "id": "nO4-DzEc8eyT",
        "outputId": "183cbf09-112e-4fc4-eb63-0a10bc98d2fc",
        "colab": {
          "base_uri": "https://localhost:8080/"
        }
      },
      "outputs": [
        {
          "output_type": "stream",
          "name": "stdout",
          "text": [
            "np.max = 9 ; np.amax = 9\n",
            "np.min = -5 ; np.amin = -5\n",
            "np.sum = 24\n",
            "np.mean = 2.0\n",
            "np.std = 3.872983346207417\n"
          ]
        }
      ],
      "source": [
        "print(\"np.max =\", np.max(A),\"; np.amax =\", np.amax(A)) # np.max() and np.amax() are synonyms\n",
        "print(\"np.min =\",np.min(A),\"; np.amin =\", np.amin(A)) # same\n",
        "print(\"np.sum =\",np.sum(A))\n",
        "print(\"np.mean =\",np.mean(A))\n",
        "print(\"np.std =\",np.std(A))"
      ]
    },
    {
      "cell_type": "markdown",
      "metadata": {
        "id": "m-kM_9vb8eyU"
      },
      "source": [
        "The above examples aggregate over all values. But you can also aggregate along a dimension using the optional `axis` parameter."
      ]
    },
    {
      "cell_type": "code",
      "execution_count": 5,
      "metadata": {
        "id": "PH57eli_8eyU",
        "outputId": "728e6cc5-5a28-4542-cd11-6a7f6cae4475",
        "colab": {
          "base_uri": "https://localhost:8080/"
        }
      },
      "outputs": [
        {
          "output_type": "stream",
          "name": "stdout",
          "text": [
            "Max in each column: [9 3 6]\n",
            "Max in each row: [4 6 9 2]\n"
          ]
        }
      ],
      "source": [
        "print(\"Max in each column:\", np.amax(A, axis=0)) # i.e., aggregate along axis 0, the rows, producing column maxes\n",
        "print(\"Max in each row:\", np.amax(A, axis=1)) # i.e., aggregate along axis 1, the columns, producing row maxes"
      ]
    },
    {
      "cell_type": "markdown",
      "metadata": {
        "nbgrader": {
          "grade": false,
          "locked": true,
          "solution": false
        },
        "id": "UkZLCfZF8eyV"
      },
      "source": [
        "# Universal functions"
      ]
    },
    {
      "cell_type": "markdown",
      "metadata": {
        "nbgrader": {
          "grade": false,
          "locked": true,
          "solution": false
        },
        "id": "r5Bs-zVY8eyV"
      },
      "source": [
        "Universal functions apply a given function _elementwise_ to one or more Numpy objects.\n",
        "\n",
        "For instance, `np.abs(A)` takes the absolute value of each element."
      ]
    },
    {
      "cell_type": "code",
      "execution_count": 6,
      "metadata": {
        "id": "gbExr9W_8eyV",
        "outputId": "0c2a0822-e9af-4e65-94e4-f7e09c66bc66",
        "colab": {
          "base_uri": "https://localhost:8080/"
        }
      },
      "outputs": [
        {
          "output_type": "stream",
          "name": "stdout",
          "text": [
            "[[ 4  2  4]\n",
            " [-4  3  6]\n",
            " [ 9 -2  4]\n",
            " [-5  2  1]] \n",
            "==>\n",
            " [[4 2 4]\n",
            " [4 3 6]\n",
            " [9 2 4]\n",
            " [5 2 1]]\n"
          ]
        }
      ],
      "source": [
        "print(A, \"\\n==>\\n\", np.abs(A))"
      ]
    },
    {
      "cell_type": "markdown",
      "metadata": {
        "nbgrader": {
          "grade": false,
          "locked": true,
          "solution": false
        },
        "id": "6mM1clpW8eyW"
      },
      "source": [
        "Some universal functions accept multiple, compatible arguments. For instance, here, we compute the _elementwise maximum_ between two matrices, $A$ and $B$, producing a new matrix $C$ such that $c_{ij} = \\max(a_{ij}, b_{ij})$.\n",
        "\n",
        "> The matrices must have compatible shapes, which we will elaborate on below when we discuss Numpy's _broadcasting rule_."
      ]
    },
    {
      "cell_type": "code",
      "execution_count": 7,
      "metadata": {
        "id": "d-Vaepoe8eyW",
        "outputId": "371729f0-e826-42ed-958a-49ca27d40ed1",
        "colab": {
          "base_uri": "https://localhost:8080/"
        }
      },
      "outputs": [
        {
          "output_type": "stream",
          "name": "stdout",
          "text": [
            "[[ 4  2  4]\n",
            " [-4  3  6]\n",
            " [ 9 -2  4]\n",
            " [-5  2  1]]\n"
          ]
        }
      ],
      "source": [
        "print(A) # recall A"
      ]
    },
    {
      "cell_type": "code",
      "execution_count": 8,
      "metadata": {
        "id": "srZ20rT18eyX",
        "outputId": "0b572b6e-da29-450f-df4a-c7a6b7144be5",
        "colab": {
          "base_uri": "https://localhost:8080/"
        }
      },
      "outputs": [
        {
          "output_type": "stream",
          "name": "stdout",
          "text": [
            "[[-2 -2 -2]\n",
            " [ 2 -3  6]\n",
            " [-4 -3  7]\n",
            " [-1 -4  6]]\n"
          ]
        }
      ],
      "source": [
        "B = rng.integers(-10, 10, size=A.shape)\n",
        "print(B)"
      ]
    },
    {
      "cell_type": "code",
      "execution_count": 9,
      "metadata": {
        "id": "4PhT6pOn8eyX",
        "outputId": "4eded259-d960-432f-ea48-394c6a5ea103",
        "colab": {
          "base_uri": "https://localhost:8080/"
        }
      },
      "outputs": [
        {
          "output_type": "stream",
          "name": "stdout",
          "text": [
            "[[ 4  2  4]\n",
            " [ 2  3  6]\n",
            " [ 9 -2  7]\n",
            " [-1  2  6]]\n"
          ]
        }
      ],
      "source": [
        "C = np.maximum(A, B) # elementwise comparison\n",
        "print(C)"
      ]
    },
    {
      "cell_type": "markdown",
      "metadata": {
        "nbgrader": {
          "grade": false,
          "locked": true,
          "solution": false
        },
        "id": "oVA6YeZy8eyX"
      },
      "source": [
        "You can also build your own universal functions! For instance, suppose we want a way to compute, elementwise, $f(x) = e^{-x^2}$ and we have a scalar function that can do so:"
      ]
    },
    {
      "cell_type": "code",
      "execution_count": 10,
      "metadata": {
        "id": "wVG0w0Cf8eyY"
      },
      "outputs": [],
      "source": [
        "def f(x):\n",
        "    from math import exp\n",
        "    return exp(-(x**2))"
      ]
    },
    {
      "cell_type": "markdown",
      "metadata": {
        "nbgrader": {
          "grade": false,
          "locked": true,
          "solution": false
        },
        "id": "i0BamdmS8eyY"
      },
      "source": [
        "This function accepts one input (`x`) and returns a single output. The following will create a new Numpy universal function `f_np`.\n",
        "See the documentation for [np.frompyfunc()](https://docs.scipy.org/doc/numpy/reference/generated/numpy.frompyfunc.html) for more details."
      ]
    },
    {
      "cell_type": "code",
      "execution_count": 11,
      "metadata": {
        "id": "NUqi9SbO8eyY",
        "outputId": "53af6222-d682-4150-c9ed-faf4d291903b",
        "colab": {
          "base_uri": "https://localhost:8080/"
        }
      },
      "outputs": [
        {
          "output_type": "stream",
          "name": "stdout",
          "text": [
            "[[ 4  2  4]\n",
            " [-4  3  6]\n",
            " [ 9 -2  4]\n",
            " [-5  2  1]] \n",
            "=>\n",
            " [[1.1253517471925912e-07 0.01831563888873418 1.1253517471925912e-07]\n",
            " [1.1253517471925912e-07 0.00012340980408667956 2.3195228302435696e-16]\n",
            " [6.639677199580735e-36 0.01831563888873418 1.1253517471925912e-07]\n",
            " [1.3887943864964021e-11 0.01831563888873418 0.36787944117144233]]\n"
          ]
        }
      ],
      "source": [
        "f_np = np.frompyfunc(f, 1, 1)\n",
        "\n",
        "print(A, \"\\n=>\\n\", f_np(A))"
      ]
    },
    {
      "cell_type": "markdown",
      "metadata": {
        "nbgrader": {
          "grade": false,
          "locked": true,
          "solution": false
        },
        "id": "JUgDhAbW8eyY"
      },
      "source": [
        "## What are your questions on these topics?"
      ]
    },
    {
      "cell_type": "code",
      "execution_count": 11,
      "metadata": {
        "id": "Rm3FA9pL8eyZ"
      },
      "outputs": [],
      "source": []
    }
  ],
  "metadata": {
    "kernelspec": {
      "display_name": "Python 3 (ipykernel)",
      "language": "python",
      "name": "python3"
    },
    "language_info": {
      "codemirror_mode": {
        "name": "ipython",
        "version": 3
      },
      "file_extension": ".py",
      "mimetype": "text/x-python",
      "name": "python",
      "nbconvert_exporter": "python",
      "pygments_lexer": "ipython3",
      "version": "3.9.13"
    },
    "colab": {
      "provenance": [],
      "include_colab_link": true
    }
  },
  "nbformat": 4,
  "nbformat_minor": 0
}
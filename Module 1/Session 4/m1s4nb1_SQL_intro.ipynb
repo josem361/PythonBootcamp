{
  "cells": [
    {
      "cell_type": "markdown",
      "metadata": {
        "id": "view-in-github",
        "colab_type": "text"
      },
      "source": [
        "<a href=\"https://colab.research.google.com/github/josem361/PythonBootcamp/blob/main/Module%201/Session%204/m1s4nb1_SQL_intro.ipynb\" target=\"_parent\"><img src=\"https://colab.research.google.com/assets/colab-badge.svg\" alt=\"Open In Colab\"/></a>"
      ]
    },
    {
      "cell_type": "markdown",
      "id": "084fbb13",
      "metadata": {
        "id": "084fbb13"
      },
      "source": [
        "_Main topics covered during today's session:_\n",
        "\n",
        "This NB:\n",
        "\n",
        "1. **Intro to SQL:**\n",
        "    \n",
        "    a. SQL clauses\n",
        "    \n",
        "    b. Joins\n",
        "    \n",
        "    c. How to write SQL queries and use sqlite3 in NB's\n",
        "    \n",
        "    d. DB Browser for SQLite\n",
        "    \n",
        "Next NB:\n",
        "\n",
        "2. **Querying in SQL**\n",
        "    \n",
        "    a. Aggregate function overview\n",
        "    \n",
        "    b. SQL query to pandas dataframe\n",
        "    \n",
        "    c. String manipulations, in select and sorting/joining\n"
      ]
    },
    {
      "cell_type": "markdown",
      "id": "b7866d34",
      "metadata": {
        "id": "b7866d34"
      },
      "source": [
        "# Intro to SQL"
      ]
    },
    {
      "cell_type": "code",
      "execution_count": 1,
      "id": "9j-7hlsitvkZ",
      "metadata": {
        "id": "9j-7hlsitvkZ",
        "colab": {
          "base_uri": "https://localhost:8080/"
        },
        "outputId": "44ebd646-9ba2-4a37-a65d-d15639582777"
      },
      "outputs": [
        {
          "output_type": "stream",
          "name": "stdout",
          "text": [
            "--2024-03-04 11:33:13--  https://github.com/gt-cse-6040/bootcamp/raw/main/Module%201/Session%204/example.db\n",
            "Resolving github.com (github.com)... 140.82.113.4\n",
            "Connecting to github.com (github.com)|140.82.113.4|:443... connected.\n",
            "HTTP request sent, awaiting response... 302 Found\n",
            "Location: https://raw.githubusercontent.com/gt-cse-6040/bootcamp/main/Module%201/Session%204/example.db [following]\n",
            "--2024-03-04 11:33:13--  https://raw.githubusercontent.com/gt-cse-6040/bootcamp/main/Module%201/Session%204/example.db\n",
            "Resolving raw.githubusercontent.com (raw.githubusercontent.com)... 185.199.111.133, 185.199.109.133, 185.199.110.133, ...\n",
            "Connecting to raw.githubusercontent.com (raw.githubusercontent.com)|185.199.111.133|:443... connected.\n",
            "HTTP request sent, awaiting response... 200 OK\n",
            "Length: 12288 (12K) [application/octet-stream]\n",
            "Saving to: ‘example.db’\n",
            "\n",
            "example.db          100%[===================>]  12.00K  --.-KB/s    in 0s      \n",
            "\n",
            "2024-03-04 11:33:13 (83.2 MB/s) - ‘example.db’ saved [12288/12288]\n",
            "\n"
          ]
        }
      ],
      "source": [
        "!wget https://github.com/gt-cse-6040/bootcamp/raw/main/Module%201/Session%204/example.db"
      ]
    },
    {
      "cell_type": "markdown",
      "id": "ea5d8b7b",
      "metadata": {
        "id": "ea5d8b7b"
      },
      "source": [
        "## We're going to do a high level introduction to SQL.\n",
        "\n",
        "#### This is not intended to be a comprehensive introduction, but we instead will be covering topics that students have historically had issues with in the class."
      ]
    },
    {
      "cell_type": "markdown",
      "id": "066065cc",
      "metadata": {
        "id": "066065cc"
      },
      "source": [
        "### First, just a little bit about SQL and relational databases.\n",
        "\n",
        "SQL stands for Structured Query language. It is generally pronounced \"es-queue-el\" or \"see-kwell\". SQL is the industry standard for communicating with relational databases.\n",
        "\n",
        "And while the Web is a great source of \"new\" data, most real-world business data appears, arguably, in more traditional relational database systems. These databases are \"tuned\" for the task of managing tabular data (e.g. tibbles) with complex relationships.\n",
        "\n",
        "Data is stored in tables, which is made up of rows and columns. Each row represents a different entity (of whatever is in that table) and each column represents a different attribute about that entity.\n",
        "\n",
        "For a good visual, think of an Excel spreadsheet, with rows and columns."
      ]
    },
    {
      "cell_type": "markdown",
      "id": "4935c733",
      "metadata": {
        "id": "4935c733"
      },
      "source": [
        "#### So what do we do with relational databases?\n",
        "\n",
        "Our task in relational database reporting is to take a requirement for information and translate that into a/an SQL query that returns the requested data.\n",
        "\n",
        "1. Which tables do we need?\n",
        "\n",
        "2. Which columns do we need?\n",
        "\n",
        "3. How will we use the columns to get the information requested?"
      ]
    },
    {
      "cell_type": "markdown",
      "id": "d4cbb2a3",
      "metadata": {
        "id": "d4cbb2a3"
      },
      "source": [
        "### What makes up an SQL query?\n",
        "\n",
        "**SQL query clauses -- Order of appearance in the query**\n",
        "\n",
        "There are 6 possible clauses in an SQL query.\n",
        "\n",
        "They must appear in the query in the following order:\n",
        "\n",
        "1. ***SELECT*** -- Which columns/data elements are to be included in the result set.\n",
        "\n",
        "\n",
        "2. ***FROM*** -- The tables which are the source of the data to be returned\n",
        "\n",
        "\n",
        "3. ***WHERE***\n",
        "    \n",
        "    a. The columns from different tables that are equivalent and define how the tables are joined together.\n",
        "    \n",
        "    b. Any filtering criteria for the query, to return a subset of the data. Note that this filtering is done PRIOR to any aggregations.\n",
        "\n",
        "\n",
        "4. ***GROUP BY*** -- If aggregating, these are the columns that the aggregations are based on.\n",
        "\n",
        "\n",
        "5. ***HAVING*** -- Filtering on data after aggregations have been performed.\n",
        "\n",
        "\n",
        "6. ***ORDER BY*** -- Sorting the data.\n",
        "\n",
        "\n",
        "There is a 7th clause, **which is not universal to all databases,** but it is available in SQLite. It is the **LIMIT** clause, which tells the database how many rows to return. It would be last in the order of the query, and would also execute last."
      ]
    },
    {
      "cell_type": "markdown",
      "id": "cb4efee5",
      "metadata": {
        "id": "cb4efee5"
      },
      "source": [
        "**SQL query clauses -- Order of execution**\n",
        "\n",
        "The 6 clauses execute in the following order:\n",
        "\n",
        "1. ***FROM*** -- Which tables are in scope for where the data will come from.\n",
        "\n",
        "\n",
        "2. ***WHERE*** -- How are the tables related to each other (joins), and any filtering that is to be done. At the conclusion of this step, all of the detail rows that make up the dataset to be returned will be in memory.\n",
        "    \n",
        "      a. The result set will include all eligible rows to be returned, from all tables. It does not include any aggregating or filtering of aggregates.\n",
        "        \n",
        "      b. The result set includes all of the columns in all of the tables at this point.\n",
        "\n",
        "\n",
        "3. ***GROUP BY*** -- Perform any groupings that need to be done for the aggregations. Each grouping represents a separate entity at this point in the process. Remember \"split-apply-combine\" from the pandas groupby() function last week? This is the \"split\" step.\n",
        "\n",
        "\n",
        "4. ***HAVING*** -- Filter the groupings from the last step, keeping only those that meet the criteria.\n",
        "\n",
        "\n",
        "5. ***SELECT*** -- Choose only the columns that are required to be returned. Also perform and data manipulations (string manipulation, for example) that are required.\n",
        "\n",
        "\n",
        "6. ***ORDER BY*** -- When the final set of rows to be returned remain, they are sorted in whatever order is specified."
      ]
    },
    {
      "cell_type": "markdown",
      "id": "fae717a3",
      "metadata": {
        "id": "fae717a3"
      },
      "source": [
        "### Now let's look at joins\n",
        "\n",
        "Notebook 9, Part 0 contains the link to an outstanding resource for visualizing joins, which are typically represented by various Venn diagrams.\n",
        "\n",
        "https://www.codeproject.com/Articles/33052/Visual-Representation-of-SQL-Joins\n",
        "\n",
        "The joins we will deal with in this class are inner, outer, left and right (these are the same as the pandas merge \"how\" parameter\", from last week).\n",
        "\n",
        "Also, remember last week how we discussed the \"left\" and \"right\" tables? Well the same applies here. The first listed table is the \"left\" table and the second listed is the \"right\" table."
      ]
    },
    {
      "cell_type": "markdown",
      "id": "720cc6a5",
      "metadata": {
        "id": "720cc6a5"
      },
      "source": [
        "**Inner join**\n",
        "\n",
        "This is the most common join, and the easiest to understand. The query using this join will return only the rows that are in both tables.\n",
        "\n",
        "Additionally, this is the default join in SQL, so if a join is not specified (as above), then the INNER JOIN is assumed.\n",
        "\n",
        "![inner%20join.png](https://github.com/gt-cse-6040/bootcamp/blob/main/Module%201/Session%204/inner%20join.png?raw=1)"
      ]
    },
    {
      "cell_type": "markdown",
      "id": "ec391056",
      "metadata": {
        "id": "ec391056"
      },
      "source": [
        "**Outer join**\n",
        "\n",
        "This is also known as FULL OUTER JOIN or FULL JOIN. The query will return all of the rows from both tables, whether or not there is a match in the other table. All columns will be populated for the rows that have a match, and for those rows from either table that do not have a match, a NULL value will be returned for the non-matching columns.\n",
        "\n",
        "![outer%20join.png](https://github.com/gt-cse-6040/bootcamp/blob/main/Module%201/Session%204/outer%20join.png?raw=1)"
      ]
    },
    {
      "cell_type": "markdown",
      "id": "37d4cfd6",
      "metadata": {
        "id": "37d4cfd6"
      },
      "source": [
        "**Left join**\n",
        "\n",
        "This join will return all of the rows from the left table, whether or not there is a match from the right table. Any records that match from the right table will also be included, and for those left table rows that do not have a match, the right table columns in the SELECT statement will return a NULL value.\n",
        "\n",
        "![left%20join.png](https://github.com/gt-cse-6040/bootcamp/blob/main/Module%201/Session%204/left%20join.png?raw=1)"
      ]
    },
    {
      "cell_type": "markdown",
      "id": "f2026c3d",
      "metadata": {
        "id": "f2026c3d"
      },
      "source": [
        "**Right join**\n",
        "\n",
        "Opposite of the Left join.\n",
        "\n",
        "This join will return all of the rows from the right table, whether or not there is a match from the left table. Any records that match from the left table will also be included, and for those right table rows that do not have a match, the left table columns in the SELECT statement will return a NULL value.\n",
        "\n",
        "![right%20join.png](https://github.com/gt-cse-6040/bootcamp/blob/main/Module%201/Session%204/right%20join.png?raw=1)"
      ]
    },
    {
      "cell_type": "markdown",
      "id": "e9b555cb",
      "metadata": {
        "id": "e9b555cb"
      },
      "source": [
        "### Running SQL from Jupyter notebooks.\n",
        "\n",
        "In general, there are three steps to running SQL queries:\n",
        "\n",
        "1. Create a database connection. In this class, we will not ask you to create database connections for a grade. We will provide the database connections, and in most cases we will also provide queries that give you an initial view of the tables in the database.\n",
        "\n",
        "\n",
        "2. Write the query. We encourage you to put the query into a string variable and then use the variable name in the query execution step.\n",
        "\n",
        "\n",
        "3. Execute the query and return the results. You will (most always) return the results into a pandas dataframe, potentially for further manipulation."
      ]
    },
    {
      "cell_type": "code",
      "execution_count": 2,
      "id": "2c6bb5ee",
      "metadata": {
        "id": "2c6bb5ee"
      },
      "outputs": [],
      "source": [
        "# create a connection to the database\n",
        "import sqlite3 as db\n",
        "\n",
        "# This is the example database, from Part 0 of NB 9.\n",
        "# Connect to a database (or create one if it doesn't exist)\n",
        "conn = db.connect('example.db')"
      ]
    },
    {
      "cell_type": "markdown",
      "id": "332cc849",
      "metadata": {
        "id": "332cc849"
      },
      "source": [
        "We recommend using the three single quotes paradigm for strings in Python, allowing you to include any characters you need within the query, and not having to worry about escape characters.\n",
        "\n",
        "We also recommend starting with some form of query template, as below.\n",
        "\n",
        "Such a template separates (and organizes) the various clauses, allowing you to visually see and understand what you are doing."
      ]
    },
    {
      "cell_type": "code",
      "execution_count": 3,
      "id": "7bd6e258",
      "metadata": {
        "id": "7bd6e258"
      },
      "outputs": [],
      "source": [
        "# showing query template\n",
        "# note the we are putting the query string into the variable 'query'.\n",
        "\n",
        "query = '''\n",
        "SELECT\n",
        "\n",
        "FROM\n",
        "\n",
        "WHERE\n",
        "\n",
        "GROUP BY\n",
        "\n",
        "HAVING\n",
        "\n",
        "ORDER BY\n",
        "\n",
        "LIMIT\n",
        "\n",
        "'''"
      ]
    },
    {
      "cell_type": "code",
      "execution_count": 4,
      "id": "fe2cd2ed",
      "metadata": {
        "id": "fe2cd2ed"
      },
      "outputs": [],
      "source": [
        "# example query\n",
        "query1 = '''\n",
        "\n",
        "SELECT *\n",
        "\n",
        "FROM Students\n",
        "\n",
        "LIMIT 5\n",
        "\n",
        "'''"
      ]
    },
    {
      "cell_type": "code",
      "execution_count": 5,
      "id": "2df3f57c",
      "metadata": {
        "id": "2df3f57c",
        "colab": {
          "base_uri": "https://localhost:8080/"
        },
        "outputId": "54ce72ce-f7e8-406e-9374-d659dd456753"
      },
      "outputs": [
        {
          "output_type": "execute_result",
          "data": {
            "text/plain": [
              "[(123, 'Vuduc'), (456, 'Chau'), (381, 'Bader'), (991, 'Sokol'), (723, 'Rozga')]"
            ]
          },
          "metadata": {},
          "execution_count": 5
        }
      ],
      "source": [
        "# execute the query\n",
        "c = conn.cursor()\n",
        "c.execute(query1)\n",
        "results1 = c.fetchall()\n",
        "results1"
      ]
    },
    {
      "cell_type": "code",
      "execution_count": 6,
      "id": "7778f615",
      "metadata": {
        "id": "7778f615"
      },
      "outputs": [],
      "source": [
        "# another query\n",
        "# note the indentations and single line item paradigm\n",
        "query2 = '''\n",
        "\n",
        "SELECT Students.name,\n",
        "       Takes.grade\n",
        "\n",
        "FROM Students, Takes\n",
        "\n",
        "WHERE Students.gtid = Takes.gtid\n",
        "      AND Takes.course = 'CSE 6040'\n",
        "\n",
        "'''\n"
      ]
    },
    {
      "cell_type": "code",
      "execution_count": 7,
      "id": "d6d68b42",
      "metadata": {
        "id": "d6d68b42",
        "colab": {
          "base_uri": "https://localhost:8080/"
        },
        "outputId": "41a0f5ee-aea2-46fd-a7d5-42c7fbbc8e27"
      },
      "outputs": [
        {
          "output_type": "execute_result",
          "data": {
            "text/plain": [
              "[('Vuduc', 4.0), ('Sokol', 4.0), ('Chau', 4.0)]"
            ]
          },
          "metadata": {},
          "execution_count": 7
        }
      ],
      "source": [
        "# execute the query\n",
        "c = conn.cursor()\n",
        "c.execute(query2)\n",
        "results2 = c.fetchall()\n",
        "results2"
      ]
    },
    {
      "cell_type": "markdown",
      "id": "19815fba",
      "metadata": {
        "id": "19815fba"
      },
      "source": [
        "#### Both of these queries use the curser object of the database connection to return a list of tuples, with each tuple being a \"row\" of data. This is not the normal method that we will ask you to bring back data, but we want you to be aware of this method. We will normally ask you to bring back the results to a pandas dataframe."
      ]
    },
    {
      "cell_type": "markdown",
      "id": "64681be8",
      "metadata": {
        "id": "64681be8"
      },
      "source": [
        "### DB Browser for SQLite"
      ]
    },
    {
      "cell_type": "markdown",
      "id": "28ef6286",
      "metadata": {
        "id": "28ef6286"
      },
      "source": [
        "#### SQLite has a database IDE tool, DB Browser, which allows you to connect to the database and write queries directly.\n",
        "\n",
        "While you may or may not find it useful in this class, it is a very good tool to use in other classes in this program. Most classes (with the exception of CSE 6242 -- DVA) that utilize databases use SQLite, so having this \"tool in your toolbox\" will be valuable to you in those classes.\n",
        "\n",
        "If you want to use DB Browser in this class, you will need to download the notebook database from Vocareum, so that you can access it locally on your computer. Vocareum does not allow external tools, such as DB Browser, to access the databases stored on it.\n",
        "\n",
        "You can download DB Browser from the following link: https://sqlitebrowser.org/\n",
        "\n"
      ]
    },
    {
      "cell_type": "code",
      "execution_count": 7,
      "id": "6d30abcc",
      "metadata": {
        "id": "6d30abcc"
      },
      "outputs": [],
      "source": []
    }
  ],
  "metadata": {
    "colab": {
      "provenance": [],
      "include_colab_link": true
    },
    "kernelspec": {
      "display_name": "Python 3 (ipykernel)",
      "language": "python",
      "name": "python3"
    },
    "language_info": {
      "codemirror_mode": {
        "name": "ipython",
        "version": 3
      },
      "file_extension": ".py",
      "mimetype": "text/x-python",
      "name": "python",
      "nbconvert_exporter": "python",
      "pygments_lexer": "ipython3",
      "version": "3.9.13"
    }
  },
  "nbformat": 4,
  "nbformat_minor": 5
}